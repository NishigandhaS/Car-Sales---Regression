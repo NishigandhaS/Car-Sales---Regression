{
 "cells": [
  {
   "cell_type": "code",
   "execution_count": 9,
   "metadata": {},
   "outputs": [],
   "source": [
    "\n",
    "import seaborn as sns\n",
    "import numpy as np\n",
    "import pandas as pd\n",
    "import scipy.stats as stats\n",
    "import math\n",
    "import matplotlib.pyplot as plt\n",
    "import statsmodels.api as sm\n",
    "from sklearn.preprocessing import PolynomialFeatures\n",
    "from sklearn.model_selection import train_test_split\n",
    "from sklearn.metrics import r2_score, mean_squared_error\n",
    "from sklearn.linear_model import Lasso,Ridge,LassoCV,RidgeCV,ElasticNetCV,ElasticNet,LinearRegression\n",
    "from sklearn.datasets import load_boston\n",
    "from scipy.stats import ttest_ind,f_oneway,levene\n",
    "from sklearn.linear_model import LinearRegression\n",
    "import statsmodels.api as sm\n",
    "%matplotlib inline\n",
    "from statsmodels.stats.outliers_influence import variance_inflation_factor as vif\n",
    "from sklearn.preprocessing import PolynomialFeatures,StandardScaler\n",
    "sc=StandardScaler()"
   ]
  },
  {
   "cell_type": "code",
   "execution_count": 2,
   "metadata": {},
   "outputs": [
    {
     "data": {
      "text/plain": [
       "(93, 27)"
      ]
     },
     "execution_count": 2,
     "metadata": {},
     "output_type": "execute_result"
    }
   ],
   "source": [
    "stats.ttest_1samp\n",
    "df=pd.read_csv('car_sales.csv',index_col=0)\n",
    "df.shape\n"
   ]
  },
  {
   "cell_type": "code",
   "execution_count": 3,
   "metadata": {},
   "outputs": [
    {
     "data": {
      "text/html": [
       "<div>\n",
       "<style scoped>\n",
       "    .dataframe tbody tr th:only-of-type {\n",
       "        vertical-align: middle;\n",
       "    }\n",
       "\n",
       "    .dataframe tbody tr th {\n",
       "        vertical-align: top;\n",
       "    }\n",
       "\n",
       "    .dataframe thead th {\n",
       "        text-align: right;\n",
       "    }\n",
       "</style>\n",
       "<table border=\"1\" class=\"dataframe\">\n",
       "  <thead>\n",
       "    <tr style=\"text-align: right;\">\n",
       "      <th></th>\n",
       "      <th>Min.Price</th>\n",
       "      <th>Price</th>\n",
       "      <th>Max.Price</th>\n",
       "      <th>MPG.city</th>\n",
       "      <th>MPG.highway</th>\n",
       "      <th>EngineSize</th>\n",
       "      <th>Horsepower</th>\n",
       "      <th>RPM</th>\n",
       "      <th>Rev.per.mile</th>\n",
       "      <th>Fuel.tank.capacity</th>\n",
       "      <th>Passengers</th>\n",
       "      <th>Length</th>\n",
       "      <th>Wheelbase</th>\n",
       "      <th>Width</th>\n",
       "      <th>Turn.circle</th>\n",
       "      <th>Rear.seat.room</th>\n",
       "      <th>Luggage.room</th>\n",
       "      <th>Weight</th>\n",
       "    </tr>\n",
       "  </thead>\n",
       "  <tbody>\n",
       "    <tr>\n",
       "      <td>Min.Price</td>\n",
       "      <td>1.000000</td>\n",
       "      <td>0.970601</td>\n",
       "      <td>0.906756</td>\n",
       "      <td>-0.622875</td>\n",
       "      <td>-0.579966</td>\n",
       "      <td>0.645488</td>\n",
       "      <td>0.802444</td>\n",
       "      <td>-0.042598</td>\n",
       "      <td>-0.470395</td>\n",
       "      <td>0.635369</td>\n",
       "      <td>0.061236</td>\n",
       "      <td>0.553859</td>\n",
       "      <td>0.516758</td>\n",
       "      <td>0.492878</td>\n",
       "      <td>0.428603</td>\n",
       "      <td>0.376642</td>\n",
       "      <td>0.413485</td>\n",
       "      <td>0.666554</td>\n",
       "    </tr>\n",
       "    <tr>\n",
       "      <td>Price</td>\n",
       "      <td>0.970601</td>\n",
       "      <td>1.000000</td>\n",
       "      <td>0.981580</td>\n",
       "      <td>-0.594562</td>\n",
       "      <td>-0.560680</td>\n",
       "      <td>0.597425</td>\n",
       "      <td>0.788218</td>\n",
       "      <td>-0.004955</td>\n",
       "      <td>-0.426395</td>\n",
       "      <td>0.619480</td>\n",
       "      <td>0.057860</td>\n",
       "      <td>0.503628</td>\n",
       "      <td>0.500864</td>\n",
       "      <td>0.456028</td>\n",
       "      <td>0.392590</td>\n",
       "      <td>0.311499</td>\n",
       "      <td>0.366569</td>\n",
       "      <td>0.647179</td>\n",
       "    </tr>\n",
       "    <tr>\n",
       "      <td>Max.Price</td>\n",
       "      <td>0.906756</td>\n",
       "      <td>0.981580</td>\n",
       "      <td>1.000000</td>\n",
       "      <td>-0.547811</td>\n",
       "      <td>-0.522561</td>\n",
       "      <td>0.535012</td>\n",
       "      <td>0.744445</td>\n",
       "      <td>0.025015</td>\n",
       "      <td>-0.374024</td>\n",
       "      <td>0.581294</td>\n",
       "      <td>0.053216</td>\n",
       "      <td>0.442933</td>\n",
       "      <td>0.467501</td>\n",
       "      <td>0.408414</td>\n",
       "      <td>0.347785</td>\n",
       "      <td>0.247260</td>\n",
       "      <td>0.315315</td>\n",
       "      <td>0.605142</td>\n",
       "    </tr>\n",
       "    <tr>\n",
       "      <td>MPG.city</td>\n",
       "      <td>-0.622875</td>\n",
       "      <td>-0.594562</td>\n",
       "      <td>-0.547811</td>\n",
       "      <td>1.000000</td>\n",
       "      <td>0.943936</td>\n",
       "      <td>-0.710003</td>\n",
       "      <td>-0.672636</td>\n",
       "      <td>0.363045</td>\n",
       "      <td>0.695857</td>\n",
       "      <td>-0.813144</td>\n",
       "      <td>-0.416856</td>\n",
       "      <td>-0.666239</td>\n",
       "      <td>-0.667108</td>\n",
       "      <td>-0.720534</td>\n",
       "      <td>-0.666389</td>\n",
       "      <td>-0.384347</td>\n",
       "      <td>-0.494894</td>\n",
       "      <td>-0.843139</td>\n",
       "    </tr>\n",
       "    <tr>\n",
       "      <td>MPG.highway</td>\n",
       "      <td>-0.579966</td>\n",
       "      <td>-0.560680</td>\n",
       "      <td>-0.522561</td>\n",
       "      <td>0.943936</td>\n",
       "      <td>1.000000</td>\n",
       "      <td>-0.626795</td>\n",
       "      <td>-0.619044</td>\n",
       "      <td>0.313469</td>\n",
       "      <td>0.587497</td>\n",
       "      <td>-0.786039</td>\n",
       "      <td>-0.466386</td>\n",
       "      <td>-0.542897</td>\n",
       "      <td>-0.615384</td>\n",
       "      <td>-0.640359</td>\n",
       "      <td>-0.593683</td>\n",
       "      <td>-0.366684</td>\n",
       "      <td>-0.371629</td>\n",
       "      <td>-0.810658</td>\n",
       "    </tr>\n",
       "    <tr>\n",
       "      <td>EngineSize</td>\n",
       "      <td>0.645488</td>\n",
       "      <td>0.597425</td>\n",
       "      <td>0.535012</td>\n",
       "      <td>-0.710003</td>\n",
       "      <td>-0.626795</td>\n",
       "      <td>1.000000</td>\n",
       "      <td>0.732120</td>\n",
       "      <td>-0.547898</td>\n",
       "      <td>-0.824009</td>\n",
       "      <td>0.759306</td>\n",
       "      <td>0.372721</td>\n",
       "      <td>0.780283</td>\n",
       "      <td>0.732484</td>\n",
       "      <td>0.867110</td>\n",
       "      <td>0.778464</td>\n",
       "      <td>0.502750</td>\n",
       "      <td>0.680827</td>\n",
       "      <td>0.845075</td>\n",
       "    </tr>\n",
       "    <tr>\n",
       "      <td>Horsepower</td>\n",
       "      <td>0.802444</td>\n",
       "      <td>0.788218</td>\n",
       "      <td>0.744445</td>\n",
       "      <td>-0.672636</td>\n",
       "      <td>-0.619044</td>\n",
       "      <td>0.732120</td>\n",
       "      <td>1.000000</td>\n",
       "      <td>0.036688</td>\n",
       "      <td>-0.600314</td>\n",
       "      <td>0.711790</td>\n",
       "      <td>0.009264</td>\n",
       "      <td>0.550865</td>\n",
       "      <td>0.486854</td>\n",
       "      <td>0.644413</td>\n",
       "      <td>0.561216</td>\n",
       "      <td>0.256732</td>\n",
       "      <td>0.359217</td>\n",
       "      <td>0.738798</td>\n",
       "    </tr>\n",
       "    <tr>\n",
       "      <td>RPM</td>\n",
       "      <td>-0.042598</td>\n",
       "      <td>-0.004955</td>\n",
       "      <td>0.025015</td>\n",
       "      <td>0.363045</td>\n",
       "      <td>0.313469</td>\n",
       "      <td>-0.547898</td>\n",
       "      <td>0.036688</td>\n",
       "      <td>1.000000</td>\n",
       "      <td>0.494764</td>\n",
       "      <td>-0.333345</td>\n",
       "      <td>-0.467138</td>\n",
       "      <td>-0.441249</td>\n",
       "      <td>-0.467812</td>\n",
       "      <td>-0.539721</td>\n",
       "      <td>-0.505651</td>\n",
       "      <td>-0.342175</td>\n",
       "      <td>-0.524845</td>\n",
       "      <td>-0.427931</td>\n",
       "    </tr>\n",
       "    <tr>\n",
       "      <td>Rev.per.mile</td>\n",
       "      <td>-0.470395</td>\n",
       "      <td>-0.426395</td>\n",
       "      <td>-0.374024</td>\n",
       "      <td>0.695857</td>\n",
       "      <td>0.587497</td>\n",
       "      <td>-0.824009</td>\n",
       "      <td>-0.600314</td>\n",
       "      <td>0.494764</td>\n",
       "      <td>1.000000</td>\n",
       "      <td>-0.609710</td>\n",
       "      <td>-0.334976</td>\n",
       "      <td>-0.690233</td>\n",
       "      <td>-0.636824</td>\n",
       "      <td>-0.780460</td>\n",
       "      <td>-0.733160</td>\n",
       "      <td>-0.377010</td>\n",
       "      <td>-0.592792</td>\n",
       "      <td>-0.735264</td>\n",
       "    </tr>\n",
       "    <tr>\n",
       "      <td>Fuel.tank.capacity</td>\n",
       "      <td>0.635369</td>\n",
       "      <td>0.619480</td>\n",
       "      <td>0.581294</td>\n",
       "      <td>-0.813144</td>\n",
       "      <td>-0.786039</td>\n",
       "      <td>0.759306</td>\n",
       "      <td>0.711790</td>\n",
       "      <td>-0.333345</td>\n",
       "      <td>-0.609710</td>\n",
       "      <td>1.000000</td>\n",
       "      <td>0.472095</td>\n",
       "      <td>0.690461</td>\n",
       "      <td>0.757674</td>\n",
       "      <td>0.798719</td>\n",
       "      <td>0.671343</td>\n",
       "      <td>0.509689</td>\n",
       "      <td>0.613437</td>\n",
       "      <td>0.894018</td>\n",
       "    </tr>\n",
       "    <tr>\n",
       "      <td>Passengers</td>\n",
       "      <td>0.061236</td>\n",
       "      <td>0.057860</td>\n",
       "      <td>0.053216</td>\n",
       "      <td>-0.416856</td>\n",
       "      <td>-0.466386</td>\n",
       "      <td>0.372721</td>\n",
       "      <td>0.009264</td>\n",
       "      <td>-0.467138</td>\n",
       "      <td>-0.334976</td>\n",
       "      <td>0.472095</td>\n",
       "      <td>1.000000</td>\n",
       "      <td>0.485294</td>\n",
       "      <td>0.694054</td>\n",
       "      <td>0.489979</td>\n",
       "      <td>0.449025</td>\n",
       "      <td>0.694134</td>\n",
       "      <td>0.653317</td>\n",
       "      <td>0.553273</td>\n",
       "    </tr>\n",
       "    <tr>\n",
       "      <td>Length</td>\n",
       "      <td>0.553859</td>\n",
       "      <td>0.503628</td>\n",
       "      <td>0.442933</td>\n",
       "      <td>-0.666239</td>\n",
       "      <td>-0.542897</td>\n",
       "      <td>0.780283</td>\n",
       "      <td>0.550865</td>\n",
       "      <td>-0.441249</td>\n",
       "      <td>-0.690233</td>\n",
       "      <td>0.690461</td>\n",
       "      <td>0.485294</td>\n",
       "      <td>1.000000</td>\n",
       "      <td>0.823650</td>\n",
       "      <td>0.822148</td>\n",
       "      <td>0.738955</td>\n",
       "      <td>0.549958</td>\n",
       "      <td>0.712962</td>\n",
       "      <td>0.806274</td>\n",
       "    </tr>\n",
       "    <tr>\n",
       "      <td>Wheelbase</td>\n",
       "      <td>0.516758</td>\n",
       "      <td>0.500864</td>\n",
       "      <td>0.467501</td>\n",
       "      <td>-0.667108</td>\n",
       "      <td>-0.615384</td>\n",
       "      <td>0.732484</td>\n",
       "      <td>0.486854</td>\n",
       "      <td>-0.467812</td>\n",
       "      <td>-0.636824</td>\n",
       "      <td>0.757674</td>\n",
       "      <td>0.694054</td>\n",
       "      <td>0.823650</td>\n",
       "      <td>1.000000</td>\n",
       "      <td>0.807213</td>\n",
       "      <td>0.723324</td>\n",
       "      <td>0.667259</td>\n",
       "      <td>0.734127</td>\n",
       "      <td>0.871895</td>\n",
       "    </tr>\n",
       "    <tr>\n",
       "      <td>Width</td>\n",
       "      <td>0.492878</td>\n",
       "      <td>0.456028</td>\n",
       "      <td>0.408414</td>\n",
       "      <td>-0.720534</td>\n",
       "      <td>-0.640359</td>\n",
       "      <td>0.867110</td>\n",
       "      <td>0.644413</td>\n",
       "      <td>-0.539721</td>\n",
       "      <td>-0.780460</td>\n",
       "      <td>0.798719</td>\n",
       "      <td>0.489979</td>\n",
       "      <td>0.822148</td>\n",
       "      <td>0.807213</td>\n",
       "      <td>1.000000</td>\n",
       "      <td>0.817854</td>\n",
       "      <td>0.465618</td>\n",
       "      <td>0.673490</td>\n",
       "      <td>0.874961</td>\n",
       "    </tr>\n",
       "    <tr>\n",
       "      <td>Turn.circle</td>\n",
       "      <td>0.428603</td>\n",
       "      <td>0.392590</td>\n",
       "      <td>0.347785</td>\n",
       "      <td>-0.666389</td>\n",
       "      <td>-0.593683</td>\n",
       "      <td>0.778464</td>\n",
       "      <td>0.561216</td>\n",
       "      <td>-0.505651</td>\n",
       "      <td>-0.733160</td>\n",
       "      <td>0.671343</td>\n",
       "      <td>0.449025</td>\n",
       "      <td>0.738955</td>\n",
       "      <td>0.723324</td>\n",
       "      <td>0.817854</td>\n",
       "      <td>1.000000</td>\n",
       "      <td>0.466328</td>\n",
       "      <td>0.585018</td>\n",
       "      <td>0.778043</td>\n",
       "    </tr>\n",
       "    <tr>\n",
       "      <td>Rear.seat.room</td>\n",
       "      <td>0.376642</td>\n",
       "      <td>0.311499</td>\n",
       "      <td>0.247260</td>\n",
       "      <td>-0.384347</td>\n",
       "      <td>-0.366684</td>\n",
       "      <td>0.502750</td>\n",
       "      <td>0.256732</td>\n",
       "      <td>-0.342175</td>\n",
       "      <td>-0.377010</td>\n",
       "      <td>0.509689</td>\n",
       "      <td>0.694134</td>\n",
       "      <td>0.549958</td>\n",
       "      <td>0.667259</td>\n",
       "      <td>0.465618</td>\n",
       "      <td>0.466328</td>\n",
       "      <td>1.000000</td>\n",
       "      <td>0.651968</td>\n",
       "      <td>0.526250</td>\n",
       "    </tr>\n",
       "    <tr>\n",
       "      <td>Luggage.room</td>\n",
       "      <td>0.413485</td>\n",
       "      <td>0.366569</td>\n",
       "      <td>0.315315</td>\n",
       "      <td>-0.494894</td>\n",
       "      <td>-0.371629</td>\n",
       "      <td>0.680827</td>\n",
       "      <td>0.359217</td>\n",
       "      <td>-0.524845</td>\n",
       "      <td>-0.592792</td>\n",
       "      <td>0.613437</td>\n",
       "      <td>0.653317</td>\n",
       "      <td>0.712962</td>\n",
       "      <td>0.734127</td>\n",
       "      <td>0.673490</td>\n",
       "      <td>0.585018</td>\n",
       "      <td>0.651968</td>\n",
       "      <td>1.000000</td>\n",
       "      <td>0.637226</td>\n",
       "    </tr>\n",
       "    <tr>\n",
       "      <td>Weight</td>\n",
       "      <td>0.666554</td>\n",
       "      <td>0.647179</td>\n",
       "      <td>0.605142</td>\n",
       "      <td>-0.843139</td>\n",
       "      <td>-0.810658</td>\n",
       "      <td>0.845075</td>\n",
       "      <td>0.738798</td>\n",
       "      <td>-0.427931</td>\n",
       "      <td>-0.735264</td>\n",
       "      <td>0.894018</td>\n",
       "      <td>0.553273</td>\n",
       "      <td>0.806274</td>\n",
       "      <td>0.871895</td>\n",
       "      <td>0.874961</td>\n",
       "      <td>0.778043</td>\n",
       "      <td>0.526250</td>\n",
       "      <td>0.637226</td>\n",
       "      <td>1.000000</td>\n",
       "    </tr>\n",
       "  </tbody>\n",
       "</table>\n",
       "</div>"
      ],
      "text/plain": [
       "                    Min.Price     Price  Max.Price  MPG.city  MPG.highway  \\\n",
       "Min.Price            1.000000  0.970601   0.906756 -0.622875    -0.579966   \n",
       "Price                0.970601  1.000000   0.981580 -0.594562    -0.560680   \n",
       "Max.Price            0.906756  0.981580   1.000000 -0.547811    -0.522561   \n",
       "MPG.city            -0.622875 -0.594562  -0.547811  1.000000     0.943936   \n",
       "MPG.highway         -0.579966 -0.560680  -0.522561  0.943936     1.000000   \n",
       "EngineSize           0.645488  0.597425   0.535012 -0.710003    -0.626795   \n",
       "Horsepower           0.802444  0.788218   0.744445 -0.672636    -0.619044   \n",
       "RPM                 -0.042598 -0.004955   0.025015  0.363045     0.313469   \n",
       "Rev.per.mile        -0.470395 -0.426395  -0.374024  0.695857     0.587497   \n",
       "Fuel.tank.capacity   0.635369  0.619480   0.581294 -0.813144    -0.786039   \n",
       "Passengers           0.061236  0.057860   0.053216 -0.416856    -0.466386   \n",
       "Length               0.553859  0.503628   0.442933 -0.666239    -0.542897   \n",
       "Wheelbase            0.516758  0.500864   0.467501 -0.667108    -0.615384   \n",
       "Width                0.492878  0.456028   0.408414 -0.720534    -0.640359   \n",
       "Turn.circle          0.428603  0.392590   0.347785 -0.666389    -0.593683   \n",
       "Rear.seat.room       0.376642  0.311499   0.247260 -0.384347    -0.366684   \n",
       "Luggage.room         0.413485  0.366569   0.315315 -0.494894    -0.371629   \n",
       "Weight               0.666554  0.647179   0.605142 -0.843139    -0.810658   \n",
       "\n",
       "                    EngineSize  Horsepower       RPM  Rev.per.mile  \\\n",
       "Min.Price             0.645488    0.802444 -0.042598     -0.470395   \n",
       "Price                 0.597425    0.788218 -0.004955     -0.426395   \n",
       "Max.Price             0.535012    0.744445  0.025015     -0.374024   \n",
       "MPG.city             -0.710003   -0.672636  0.363045      0.695857   \n",
       "MPG.highway          -0.626795   -0.619044  0.313469      0.587497   \n",
       "EngineSize            1.000000    0.732120 -0.547898     -0.824009   \n",
       "Horsepower            0.732120    1.000000  0.036688     -0.600314   \n",
       "RPM                  -0.547898    0.036688  1.000000      0.494764   \n",
       "Rev.per.mile         -0.824009   -0.600314  0.494764      1.000000   \n",
       "Fuel.tank.capacity    0.759306    0.711790 -0.333345     -0.609710   \n",
       "Passengers            0.372721    0.009264 -0.467138     -0.334976   \n",
       "Length                0.780283    0.550865 -0.441249     -0.690233   \n",
       "Wheelbase             0.732484    0.486854 -0.467812     -0.636824   \n",
       "Width                 0.867110    0.644413 -0.539721     -0.780460   \n",
       "Turn.circle           0.778464    0.561216 -0.505651     -0.733160   \n",
       "Rear.seat.room        0.502750    0.256732 -0.342175     -0.377010   \n",
       "Luggage.room          0.680827    0.359217 -0.524845     -0.592792   \n",
       "Weight                0.845075    0.738798 -0.427931     -0.735264   \n",
       "\n",
       "                    Fuel.tank.capacity  Passengers    Length  Wheelbase  \\\n",
       "Min.Price                     0.635369    0.061236  0.553859   0.516758   \n",
       "Price                         0.619480    0.057860  0.503628   0.500864   \n",
       "Max.Price                     0.581294    0.053216  0.442933   0.467501   \n",
       "MPG.city                     -0.813144   -0.416856 -0.666239  -0.667108   \n",
       "MPG.highway                  -0.786039   -0.466386 -0.542897  -0.615384   \n",
       "EngineSize                    0.759306    0.372721  0.780283   0.732484   \n",
       "Horsepower                    0.711790    0.009264  0.550865   0.486854   \n",
       "RPM                          -0.333345   -0.467138 -0.441249  -0.467812   \n",
       "Rev.per.mile                 -0.609710   -0.334976 -0.690233  -0.636824   \n",
       "Fuel.tank.capacity            1.000000    0.472095  0.690461   0.757674   \n",
       "Passengers                    0.472095    1.000000  0.485294   0.694054   \n",
       "Length                        0.690461    0.485294  1.000000   0.823650   \n",
       "Wheelbase                     0.757674    0.694054  0.823650   1.000000   \n",
       "Width                         0.798719    0.489979  0.822148   0.807213   \n",
       "Turn.circle                   0.671343    0.449025  0.738955   0.723324   \n",
       "Rear.seat.room                0.509689    0.694134  0.549958   0.667259   \n",
       "Luggage.room                  0.613437    0.653317  0.712962   0.734127   \n",
       "Weight                        0.894018    0.553273  0.806274   0.871895   \n",
       "\n",
       "                       Width  Turn.circle  Rear.seat.room  Luggage.room  \\\n",
       "Min.Price           0.492878     0.428603        0.376642      0.413485   \n",
       "Price               0.456028     0.392590        0.311499      0.366569   \n",
       "Max.Price           0.408414     0.347785        0.247260      0.315315   \n",
       "MPG.city           -0.720534    -0.666389       -0.384347     -0.494894   \n",
       "MPG.highway        -0.640359    -0.593683       -0.366684     -0.371629   \n",
       "EngineSize          0.867110     0.778464        0.502750      0.680827   \n",
       "Horsepower          0.644413     0.561216        0.256732      0.359217   \n",
       "RPM                -0.539721    -0.505651       -0.342175     -0.524845   \n",
       "Rev.per.mile       -0.780460    -0.733160       -0.377010     -0.592792   \n",
       "Fuel.tank.capacity  0.798719     0.671343        0.509689      0.613437   \n",
       "Passengers          0.489979     0.449025        0.694134      0.653317   \n",
       "Length              0.822148     0.738955        0.549958      0.712962   \n",
       "Wheelbase           0.807213     0.723324        0.667259      0.734127   \n",
       "Width               1.000000     0.817854        0.465618      0.673490   \n",
       "Turn.circle         0.817854     1.000000        0.466328      0.585018   \n",
       "Rear.seat.room      0.465618     0.466328        1.000000      0.651968   \n",
       "Luggage.room        0.673490     0.585018        0.651968      1.000000   \n",
       "Weight              0.874961     0.778043        0.526250      0.637226   \n",
       "\n",
       "                      Weight  \n",
       "Min.Price           0.666554  \n",
       "Price               0.647179  \n",
       "Max.Price           0.605142  \n",
       "MPG.city           -0.843139  \n",
       "MPG.highway        -0.810658  \n",
       "EngineSize          0.845075  \n",
       "Horsepower          0.738798  \n",
       "RPM                -0.427931  \n",
       "Rev.per.mile       -0.735264  \n",
       "Fuel.tank.capacity  0.894018  \n",
       "Passengers          0.553273  \n",
       "Length              0.806274  \n",
       "Wheelbase           0.871895  \n",
       "Width               0.874961  \n",
       "Turn.circle         0.778043  \n",
       "Rear.seat.room      0.526250  \n",
       "Luggage.room        0.637226  \n",
       "Weight              1.000000  "
      ]
     },
     "execution_count": 3,
     "metadata": {},
     "output_type": "execute_result"
    }
   ],
   "source": [
    "df.corr()"
   ]
  },
  {
   "cell_type": "code",
   "execution_count": 3,
   "metadata": {},
   "outputs": [],
   "source": [
    "df.drop(['Manufacturer','Model','Make'],axis=1,inplace=True)"
   ]
  },
  {
   "cell_type": "code",
   "execution_count": 8,
   "metadata": {},
   "outputs": [
    {
     "data": {
      "image/png": "[encoded data removed]",
      "text/plain": [
       "<Figure size 432x288 with 2 Axes>"
      ]
     },
     "metadata": {
      "needs_background": "light"
     },
     "output_type": "display_data"
    }
   ],
   "source": [
    "\n",
    "sns.heatmap(df.corr(),annot=True,fmt='.2f')\n",
    "plt.show()"
   ]
  },
  {
   "cell_type": "markdown",
   "metadata": {},
   "source": [
    "## 1) Origin coloumn "
   ]
  },
  {
   "cell_type": "markdown",
   "metadata": {},
   "source": [
    "#### Lets see if origin should be included or not \n",
    "#### in box plot column sjhould have Continous and by should have Origin\n",
    "### Inference from scatter plot:-\n",
    "#### visually when we see that the mean of these 2, whoch is the green line , are close to each other\n",
    "#### but we need to proe this statistically:- 2 sample t test"
   ]
  },
  {
   "cell_type": "code",
   "execution_count": 5,
   "metadata": {},
   "outputs": [
    {
     "data": {
      "text/plain": [
       "<matplotlib.axes._subplots.AxesSubplot at 0x23059f08448>"
      ]
     },
     "execution_count": 5,
     "metadata": {},
     "output_type": "execute_result"
    },
    {
     "data": {
      "image/png": "[encoded data removed]",
      "text/plain": [
       "<Figure size 432x288 with 1 Axes>"
      ]
     },
     "metadata": {
      "needs_background": "light"
     },
     "output_type": "display_data"
    }
   ],
   "source": [
    "df.boxplot(column='Price',by='Origin')"
   ]
  },
  {
   "cell_type": "markdown",
   "metadata": {},
   "source": [
    "##### statistically 2 sample t test"
   ]
  },
  {
   "cell_type": "code",
   "execution_count": 6,
   "metadata": {},
   "outputs": [
    {
     "data": {
      "text/plain": [
       "Ttest_indResult(statistic=-0.9655463914123011, pvalue=0.33683021808366587)"
      ]
     },
     "execution_count": 6,
     "metadata": {},
     "output_type": "execute_result"
    }
   ],
   "source": [
    "A_USA=df[df['Origin']=='USA']\n",
    "A_ER=df[df['Origin']=='non-USA']\n",
    "ttest_ind(A_USA['Price'],A_ER['Price'])"
   ]
  },
  {
   "cell_type": "code",
   "execution_count": 7,
   "metadata": {},
   "outputs": [],
   "source": [
    "# print(np.mean(A_ER),np.mean(A_USA))"
   ]
  },
  {
   "cell_type": "markdown",
   "metadata": {},
   "source": [
    "### Not significant as we have pvalue=0.33683021808366587 which is:-\n",
    "#### 1) more than 0.05%, P(Ho being true is 33.6%)\n",
    "#### 2) we accept null hypothesis\n",
    "#### 3) mean price of usa brand equal to non usa\n",
    "##### Hence origin doesnt matter"
   ]
  },
  {
   "cell_type": "markdown",
   "metadata": {},
   "source": [
    "## 2) Type Column"
   ]
  },
  {
   "cell_type": "code",
   "execution_count": null,
   "metadata": {},
   "outputs": [],
   "source": []
  },
  {
   "cell_type": "code",
   "execution_count": 8,
   "metadata": {},
   "outputs": [
    {
     "data": {
      "text/plain": [
       "Midsize    22\n",
       "Small      21\n",
       "Compact    16\n",
       "Sporty     14\n",
       "Large      11\n",
       "Van         9\n",
       "Name: Type, dtype: int64"
      ]
     },
     "execution_count": 8,
     "metadata": {},
     "output_type": "execute_result"
    }
   ],
   "source": [
    "df['Type'].value_counts()"
   ]
  },
  {
   "cell_type": "code",
   "execution_count": 9,
   "metadata": {},
   "outputs": [],
   "source": [
    "#### Lets see if Type should be included or not \n",
    "#### but we need to proe this statistically:-  6 groups so f_oneway,"
   ]
  },
  {
   "cell_type": "code",
   "execution_count": 10,
   "metadata": {},
   "outputs": [
    {
     "data": {
      "text/plain": [
       "<matplotlib.axes._subplots.AxesSubplot at 0x2305a1bcfc8>"
      ]
     },
     "execution_count": 10,
     "metadata": {},
     "output_type": "execute_result"
    },
    {
     "data": {
      "image/png": "[encoded data removed]",
      "text/plain": [
       "<Figure size 432x288 with 1 Axes>"
      ]
     },
     "metadata": {
      "needs_background": "light"
     },
     "output_type": "display_data"
    }
   ],
   "source": [
    "df.boxplot(column='Price',by='Type')"
   ]
  },
  {
   "cell_type": "code",
   "execution_count": 11,
   "metadata": {},
   "outputs": [
    {
     "data": {
      "text/plain": [
       "F_onewayResult(statistic=11.531617846935887, pvalue=1.4769990356644984e-08)"
      ]
     },
     "execution_count": 11,
     "metadata": {},
     "output_type": "execute_result"
    }
   ],
   "source": [
    "Compact=df[df['Type']=='Compact']\n",
    "Large=df[df['Type']=='Large']\n",
    "Midsize=df[df['Type']=='Midsize']\n",
    "Small=df[df['Type']=='Small']\n",
    "Sporty=df[df['Type']=='Sporty']\n",
    "Van=df[df['Type']=='Van']\n",
    "f_oneway(Van['Price'],Midsize['Price'],Small['Price'],Compact['Price'],Sporty['Price'],Large['Price'])"
   ]
  },
  {
   "cell_type": "markdown",
   "metadata": {},
   "source": [
    "###  Significant as we have pvalue=1.4769990356644984e-08 which is:-\n",
    "#### 1) less than 0.05%\n",
    "#### 2) we reject null hypothesis\n",
    "#### 3) mean price of all types are different\n",
    "##### Hence origin doesnt matter\n",
    "##### Hence Type  matter"
   ]
  },
  {
   "cell_type": "code",
   "execution_count": 12,
   "metadata": {},
   "outputs": [
    {
     "data": {
      "text/html": [
       "<div>\n",
       "<style scoped>\n",
       "    .dataframe tbody tr th:only-of-type {\n",
       "        vertical-align: middle;\n",
       "    }\n",
       "\n",
       "    .dataframe tbody tr th {\n",
       "        vertical-align: top;\n",
       "    }\n",
       "\n",
       "    .dataframe thead th {\n",
       "        text-align: right;\n",
       "    }\n",
       "</style>\n",
       "<table border=\"1\" class=\"dataframe\">\n",
       "  <thead>\n",
       "    <tr style=\"text-align: right;\">\n",
       "      <th></th>\n",
       "      <th>Min.Price</th>\n",
       "      <th>Price</th>\n",
       "      <th>Max.Price</th>\n",
       "      <th>MPG.city</th>\n",
       "      <th>MPG.highway</th>\n",
       "      <th>EngineSize</th>\n",
       "      <th>Horsepower</th>\n",
       "      <th>RPM</th>\n",
       "      <th>Rev.per.mile</th>\n",
       "      <th>Fuel.tank.capacity</th>\n",
       "      <th>Passengers</th>\n",
       "      <th>Length</th>\n",
       "      <th>Wheelbase</th>\n",
       "      <th>Width</th>\n",
       "      <th>Turn.circle</th>\n",
       "      <th>Rear.seat.room</th>\n",
       "      <th>Luggage.room</th>\n",
       "      <th>Weight</th>\n",
       "    </tr>\n",
       "  </thead>\n",
       "  <tbody>\n",
       "    <tr>\n",
       "      <td>Min.Price</td>\n",
       "      <td>1.000000</td>\n",
       "      <td>0.970601</td>\n",
       "      <td>0.906756</td>\n",
       "      <td>-0.622875</td>\n",
       "      <td>-0.579966</td>\n",
       "      <td>0.645488</td>\n",
       "      <td>0.802444</td>\n",
       "      <td>-0.042598</td>\n",
       "      <td>-0.470395</td>\n",
       "      <td>0.635369</td>\n",
       "      <td>0.061236</td>\n",
       "      <td>0.553859</td>\n",
       "      <td>0.516758</td>\n",
       "      <td>0.492878</td>\n",
       "      <td>0.428603</td>\n",
       "      <td>0.376642</td>\n",
       "      <td>0.413485</td>\n",
       "      <td>0.666554</td>\n",
       "    </tr>\n",
       "    <tr>\n",
       "      <td>Price</td>\n",
       "      <td>0.970601</td>\n",
       "      <td>1.000000</td>\n",
       "      <td>0.981580</td>\n",
       "      <td>-0.594562</td>\n",
       "      <td>-0.560680</td>\n",
       "      <td>0.597425</td>\n",
       "      <td>0.788218</td>\n",
       "      <td>-0.004955</td>\n",
       "      <td>-0.426395</td>\n",
       "      <td>0.619480</td>\n",
       "      <td>0.057860</td>\n",
       "      <td>0.503628</td>\n",
       "      <td>0.500864</td>\n",
       "      <td>0.456028</td>\n",
       "      <td>0.392590</td>\n",
       "      <td>0.311499</td>\n",
       "      <td>0.366569</td>\n",
       "      <td>0.647179</td>\n",
       "    </tr>\n",
       "    <tr>\n",
       "      <td>Max.Price</td>\n",
       "      <td>0.906756</td>\n",
       "      <td>0.981580</td>\n",
       "      <td>1.000000</td>\n",
       "      <td>-0.547811</td>\n",
       "      <td>-0.522561</td>\n",
       "      <td>0.535012</td>\n",
       "      <td>0.744445</td>\n",
       "      <td>0.025015</td>\n",
       "      <td>-0.374024</td>\n",
       "      <td>0.581294</td>\n",
       "      <td>0.053216</td>\n",
       "      <td>0.442933</td>\n",
       "      <td>0.467501</td>\n",
       "      <td>0.408414</td>\n",
       "      <td>0.347785</td>\n",
       "      <td>0.247260</td>\n",
       "      <td>0.315315</td>\n",
       "      <td>0.605142</td>\n",
       "    </tr>\n",
       "    <tr>\n",
       "      <td>MPG.city</td>\n",
       "      <td>-0.622875</td>\n",
       "      <td>-0.594562</td>\n",
       "      <td>-0.547811</td>\n",
       "      <td>1.000000</td>\n",
       "      <td>0.943936</td>\n",
       "      <td>-0.710003</td>\n",
       "      <td>-0.672636</td>\n",
       "      <td>0.363045</td>\n",
       "      <td>0.695857</td>\n",
       "      <td>-0.813144</td>\n",
       "      <td>-0.416856</td>\n",
       "      <td>-0.666239</td>\n",
       "      <td>-0.667108</td>\n",
       "      <td>-0.720534</td>\n",
       "      <td>-0.666389</td>\n",
       "      <td>-0.384347</td>\n",
       "      <td>-0.494894</td>\n",
       "      <td>-0.843139</td>\n",
       "    </tr>\n",
       "    <tr>\n",
       "      <td>MPG.highway</td>\n",
       "      <td>-0.579966</td>\n",
       "      <td>-0.560680</td>\n",
       "      <td>-0.522561</td>\n",
       "      <td>0.943936</td>\n",
       "      <td>1.000000</td>\n",
       "      <td>-0.626795</td>\n",
       "      <td>-0.619044</td>\n",
       "      <td>0.313469</td>\n",
       "      <td>0.587497</td>\n",
       "      <td>-0.786039</td>\n",
       "      <td>-0.466386</td>\n",
       "      <td>-0.542897</td>\n",
       "      <td>-0.615384</td>\n",
       "      <td>-0.640359</td>\n",
       "      <td>-0.593683</td>\n",
       "      <td>-0.366684</td>\n",
       "      <td>-0.371629</td>\n",
       "      <td>-0.810658</td>\n",
       "    </tr>\n",
       "    <tr>\n",
       "      <td>EngineSize</td>\n",
       "      <td>0.645488</td>\n",
       "      <td>0.597425</td>\n",
       "      <td>0.535012</td>\n",
       "      <td>-0.710003</td>\n",
       "      <td>-0.626795</td>\n",
       "      <td>1.000000</td>\n",
       "      <td>0.732120</td>\n",
       "      <td>-0.547898</td>\n",
       "      <td>-0.824009</td>\n",
       "      <td>0.759306</td>\n",
       "      <td>0.372721</td>\n",
       "      <td>0.780283</td>\n",
       "      <td>0.732484</td>\n",
       "      <td>0.867110</td>\n",
       "      <td>0.778464</td>\n",
       "      <td>0.502750</td>\n",
       "      <td>0.680827</td>\n",
       "      <td>0.845075</td>\n",
       "    </tr>\n",
       "    <tr>\n",
       "      <td>Horsepower</td>\n",
       "      <td>0.802444</td>\n",
       "      <td>0.788218</td>\n",
       "      <td>0.744445</td>\n",
       "      <td>-0.672636</td>\n",
       "      <td>-0.619044</td>\n",
       "      <td>0.732120</td>\n",
       "      <td>1.000000</td>\n",
       "      <td>0.036688</td>\n",
       "      <td>-0.600314</td>\n",
       "      <td>0.711790</td>\n",
       "      <td>0.009264</td>\n",
       "      <td>0.550865</td>\n",
       "      <td>0.486854</td>\n",
       "      <td>0.644413</td>\n",
       "      <td>0.561216</td>\n",
       "      <td>0.256732</td>\n",
       "      <td>0.359217</td>\n",
       "      <td>0.738798</td>\n",
       "    </tr>\n",
       "    <tr>\n",
       "      <td>RPM</td>\n",
       "      <td>-0.042598</td>\n",
       "      <td>-0.004955</td>\n",
       "      <td>0.025015</td>\n",
       "      <td>0.363045</td>\n",
       "      <td>0.313469</td>\n",
       "      <td>-0.547898</td>\n",
       "      <td>0.036688</td>\n",
       "      <td>1.000000</td>\n",
       "      <td>0.494764</td>\n",
       "      <td>-0.333345</td>\n",
       "      <td>-0.467138</td>\n",
       "      <td>-0.441249</td>\n",
       "      <td>-0.467812</td>\n",
       "      <td>-0.539721</td>\n",
       "      <td>-0.505651</td>\n",
       "      <td>-0.342175</td>\n",
       "      <td>-0.524845</td>\n",
       "      <td>-0.427931</td>\n",
       "    </tr>\n",
       "    <tr>\n",
       "      <td>Rev.per.mile</td>\n",
       "      <td>-0.470395</td>\n",
       "      <td>-0.426395</td>\n",
       "      <td>-0.374024</td>\n",
       "      <td>0.695857</td>\n",
       "      <td>0.587497</td>\n",
       "      <td>-0.824009</td>\n",
       "      <td>-0.600314</td>\n",
       "      <td>0.494764</td>\n",
       "      <td>1.000000</td>\n",
       "      <td>-0.609710</td>\n",
       "      <td>-0.334976</td>\n",
       "      <td>-0.690233</td>\n",
       "      <td>-0.636824</td>\n",
       "      <td>-0.780460</td>\n",
       "      <td>-0.733160</td>\n",
       "      <td>-0.377010</td>\n",
       "      <td>-0.592792</td>\n",
       "      <td>-0.735264</td>\n",
       "    </tr>\n",
       "    <tr>\n",
       "      <td>Fuel.tank.capacity</td>\n",
       "      <td>0.635369</td>\n",
       "      <td>0.619480</td>\n",
       "      <td>0.581294</td>\n",
       "      <td>-0.813144</td>\n",
       "      <td>-0.786039</td>\n",
       "      <td>0.759306</td>\n",
       "      <td>0.711790</td>\n",
       "      <td>-0.333345</td>\n",
       "      <td>-0.609710</td>\n",
       "      <td>1.000000</td>\n",
       "      <td>0.472095</td>\n",
       "      <td>0.690461</td>\n",
       "      <td>0.757674</td>\n",
       "      <td>0.798719</td>\n",
       "      <td>0.671343</td>\n",
       "      <td>0.509689</td>\n",
       "      <td>0.613437</td>\n",
       "      <td>0.894018</td>\n",
       "    </tr>\n",
       "    <tr>\n",
       "      <td>Passengers</td>\n",
       "      <td>0.061236</td>\n",
       "      <td>0.057860</td>\n",
       "      <td>0.053216</td>\n",
       "      <td>-0.416856</td>\n",
       "      <td>-0.466386</td>\n",
       "      <td>0.372721</td>\n",
       "      <td>0.009264</td>\n",
       "      <td>-0.467138</td>\n",
       "      <td>-0.334976</td>\n",
       "      <td>0.472095</td>\n",
       "      <td>1.000000</td>\n",
       "      <td>0.485294</td>\n",
       "      <td>0.694054</td>\n",
       "      <td>0.489979</td>\n",
       "      <td>0.449025</td>\n",
       "      <td>0.694134</td>\n",
       "      <td>0.653317</td>\n",
       "      <td>0.553273</td>\n",
       "    </tr>\n",
       "    <tr>\n",
       "      <td>Length</td>\n",
       "      <td>0.553859</td>\n",
       "      <td>0.503628</td>\n",
       "      <td>0.442933</td>\n",
       "      <td>-0.666239</td>\n",
       "      <td>-0.542897</td>\n",
       "      <td>0.780283</td>\n",
       "      <td>0.550865</td>\n",
       "      <td>-0.441249</td>\n",
       "      <td>-0.690233</td>\n",
       "      <td>0.690461</td>\n",
       "      <td>0.485294</td>\n",
       "      <td>1.000000</td>\n",
       "      <td>0.823650</td>\n",
       "      <td>0.822148</td>\n",
       "      <td>0.738955</td>\n",
       "      <td>0.549958</td>\n",
       "      <td>0.712962</td>\n",
       "      <td>0.806274</td>\n",
       "    </tr>\n",
       "    <tr>\n",
       "      <td>Wheelbase</td>\n",
       "      <td>0.516758</td>\n",
       "      <td>0.500864</td>\n",
       "      <td>0.467501</td>\n",
       "      <td>-0.667108</td>\n",
       "      <td>-0.615384</td>\n",
       "      <td>0.732484</td>\n",
       "      <td>0.486854</td>\n",
       "      <td>-0.467812</td>\n",
       "      <td>-0.636824</td>\n",
       "      <td>0.757674</td>\n",
       "      <td>0.694054</td>\n",
       "      <td>0.823650</td>\n",
       "      <td>1.000000</td>\n",
       "      <td>0.807213</td>\n",
       "      <td>0.723324</td>\n",
       "      <td>0.667259</td>\n",
       "      <td>0.734127</td>\n",
       "      <td>0.871895</td>\n",
       "    </tr>\n",
       "    <tr>\n",
       "      <td>Width</td>\n",
       "      <td>0.492878</td>\n",
       "      <td>0.456028</td>\n",
       "      <td>0.408414</td>\n",
       "      <td>-0.720534</td>\n",
       "      <td>-0.640359</td>\n",
       "      <td>0.867110</td>\n",
       "      <td>0.644413</td>\n",
       "      <td>-0.539721</td>\n",
       "      <td>-0.780460</td>\n",
       "      <td>0.798719</td>\n",
       "      <td>0.489979</td>\n",
       "      <td>0.822148</td>\n",
       "      <td>0.807213</td>\n",
       "      <td>1.000000</td>\n",
       "      <td>0.817854</td>\n",
       "      <td>0.465618</td>\n",
       "      <td>0.673490</td>\n",
       "      <td>0.874961</td>\n",
       "    </tr>\n",
       "    <tr>\n",
       "      <td>Turn.circle</td>\n",
       "      <td>0.428603</td>\n",
       "      <td>0.392590</td>\n",
       "      <td>0.347785</td>\n",
       "      <td>-0.666389</td>\n",
       "      <td>-0.593683</td>\n",
       "      <td>0.778464</td>\n",
       "      <td>0.561216</td>\n",
       "      <td>-0.505651</td>\n",
       "      <td>-0.733160</td>\n",
       "      <td>0.671343</td>\n",
       "      <td>0.449025</td>\n",
       "      <td>0.738955</td>\n",
       "      <td>0.723324</td>\n",
       "      <td>0.817854</td>\n",
       "      <td>1.000000</td>\n",
       "      <td>0.466328</td>\n",
       "      <td>0.585018</td>\n",
       "      <td>0.778043</td>\n",
       "    </tr>\n",
       "    <tr>\n",
       "      <td>Rear.seat.room</td>\n",
       "      <td>0.376642</td>\n",
       "      <td>0.311499</td>\n",
       "      <td>0.247260</td>\n",
       "      <td>-0.384347</td>\n",
       "      <td>-0.366684</td>\n",
       "      <td>0.502750</td>\n",
       "      <td>0.256732</td>\n",
       "      <td>-0.342175</td>\n",
       "      <td>-0.377010</td>\n",
       "      <td>0.509689</td>\n",
       "      <td>0.694134</td>\n",
       "      <td>0.549958</td>\n",
       "      <td>0.667259</td>\n",
       "      <td>0.465618</td>\n",
       "      <td>0.466328</td>\n",
       "      <td>1.000000</td>\n",
       "      <td>0.651968</td>\n",
       "      <td>0.526250</td>\n",
       "    </tr>\n",
       "    <tr>\n",
       "      <td>Luggage.room</td>\n",
       "      <td>0.413485</td>\n",
       "      <td>0.366569</td>\n",
       "      <td>0.315315</td>\n",
       "      <td>-0.494894</td>\n",
       "      <td>-0.371629</td>\n",
       "      <td>0.680827</td>\n",
       "      <td>0.359217</td>\n",
       "      <td>-0.524845</td>\n",
       "      <td>-0.592792</td>\n",
       "      <td>0.613437</td>\n",
       "      <td>0.653317</td>\n",
       "      <td>0.712962</td>\n",
       "      <td>0.734127</td>\n",
       "      <td>0.673490</td>\n",
       "      <td>0.585018</td>\n",
       "      <td>0.651968</td>\n",
       "      <td>1.000000</td>\n",
       "      <td>0.637226</td>\n",
       "    </tr>\n",
       "    <tr>\n",
       "      <td>Weight</td>\n",
       "      <td>0.666554</td>\n",
       "      <td>0.647179</td>\n",
       "      <td>0.605142</td>\n",
       "      <td>-0.843139</td>\n",
       "      <td>-0.810658</td>\n",
       "      <td>0.845075</td>\n",
       "      <td>0.738798</td>\n",
       "      <td>-0.427931</td>\n",
       "      <td>-0.735264</td>\n",
       "      <td>0.894018</td>\n",
       "      <td>0.553273</td>\n",
       "      <td>0.806274</td>\n",
       "      <td>0.871895</td>\n",
       "      <td>0.874961</td>\n",
       "      <td>0.778043</td>\n",
       "      <td>0.526250</td>\n",
       "      <td>0.637226</td>\n",
       "      <td>1.000000</td>\n",
       "    </tr>\n",
       "  </tbody>\n",
       "</table>\n",
       "</div>"
      ],
      "text/plain": [
       "                    Min.Price     Price  Max.Price  MPG.city  MPG.highway  \\\n",
       "Min.Price            1.000000  0.970601   0.906756 -0.622875    -0.579966   \n",
       "Price                0.970601  1.000000   0.981580 -0.594562    -0.560680   \n",
       "Max.Price            0.906756  0.981580   1.000000 -0.547811    -0.522561   \n",
       "MPG.city            -0.622875 -0.594562  -0.547811  1.000000     0.943936   \n",
       "MPG.highway         -0.579966 -0.560680  -0.522561  0.943936     1.000000   \n",
       "EngineSize           0.645488  0.597425   0.535012 -0.710003    -0.626795   \n",
       "Horsepower           0.802444  0.788218   0.744445 -0.672636    -0.619044   \n",
       "RPM                 -0.042598 -0.004955   0.025015  0.363045     0.313469   \n",
       "Rev.per.mile        -0.470395 -0.426395  -0.374024  0.695857     0.587497   \n",
       "Fuel.tank.capacity   0.635369  0.619480   0.581294 -0.813144    -0.786039   \n",
       "Passengers           0.061236  0.057860   0.053216 -0.416856    -0.466386   \n",
       "Length               0.553859  0.503628   0.442933 -0.666239    -0.542897   \n",
       "Wheelbase            0.516758  0.500864   0.467501 -0.667108    -0.615384   \n",
       "Width                0.492878  0.456028   0.408414 -0.720534    -0.640359   \n",
       "Turn.circle          0.428603  0.392590   0.347785 -0.666389    -0.593683   \n",
       "Rear.seat.room       0.376642  0.311499   0.247260 -0.384347    -0.366684   \n",
       "Luggage.room         0.413485  0.366569   0.315315 -0.494894    -0.371629   \n",
       "Weight               0.666554  0.647179   0.605142 -0.843139    -0.810658   \n",
       "\n",
       "                    EngineSize  Horsepower       RPM  Rev.per.mile  \\\n",
       "Min.Price             0.645488    0.802444 -0.042598     -0.470395   \n",
       "Price                 0.597425    0.788218 -0.004955     -0.426395   \n",
       "Max.Price             0.535012    0.744445  0.025015     -0.374024   \n",
       "MPG.city             -0.710003   -0.672636  0.363045      0.695857   \n",
       "MPG.highway          -0.626795   -0.619044  0.313469      0.587497   \n",
       "EngineSize            1.000000    0.732120 -0.547898     -0.824009   \n",
       "Horsepower            0.732120    1.000000  0.036688     -0.600314   \n",
       "RPM                  -0.547898    0.036688  1.000000      0.494764   \n",
       "Rev.per.mile         -0.824009   -0.600314  0.494764      1.000000   \n",
       "Fuel.tank.capacity    0.759306    0.711790 -0.333345     -0.609710   \n",
       "Passengers            0.372721    0.009264 -0.467138     -0.334976   \n",
       "Length                0.780283    0.550865 -0.441249     -0.690233   \n",
       "Wheelbase             0.732484    0.486854 -0.467812     -0.636824   \n",
       "Width                 0.867110    0.644413 -0.539721     -0.780460   \n",
       "Turn.circle           0.778464    0.561216 -0.505651     -0.733160   \n",
       "Rear.seat.room        0.502750    0.256732 -0.342175     -0.377010   \n",
       "Luggage.room          0.680827    0.359217 -0.524845     -0.592792   \n",
       "Weight                0.845075    0.738798 -0.427931     -0.735264   \n",
       "\n",
       "                    Fuel.tank.capacity  Passengers    Length  Wheelbase  \\\n",
       "Min.Price                     0.635369    0.061236  0.553859   0.516758   \n",
       "Price                         0.619480    0.057860  0.503628   0.500864   \n",
       "Max.Price                     0.581294    0.053216  0.442933   0.467501   \n",
       "MPG.city                     -0.813144   -0.416856 -0.666239  -0.667108   \n",
       "MPG.highway                  -0.786039   -0.466386 -0.542897  -0.615384   \n",
       "EngineSize                    0.759306    0.372721  0.780283   0.732484   \n",
       "Horsepower                    0.711790    0.009264  0.550865   0.486854   \n",
       "RPM                          -0.333345   -0.467138 -0.441249  -0.467812   \n",
       "Rev.per.mile                 -0.609710   -0.334976 -0.690233  -0.636824   \n",
       "Fuel.tank.capacity            1.000000    0.472095  0.690461   0.757674   \n",
       "Passengers                    0.472095    1.000000  0.485294   0.694054   \n",
       "Length                        0.690461    0.485294  1.000000   0.823650   \n",
       "Wheelbase                     0.757674    0.694054  0.823650   1.000000   \n",
       "Width                         0.798719    0.489979  0.822148   0.807213   \n",
       "Turn.circle                   0.671343    0.449025  0.738955   0.723324   \n",
       "Rear.seat.room                0.509689    0.694134  0.549958   0.667259   \n",
       "Luggage.room                  0.613437    0.653317  0.712962   0.734127   \n",
       "Weight                        0.894018    0.553273  0.806274   0.871895   \n",
       "\n",
       "                       Width  Turn.circle  Rear.seat.room  Luggage.room  \\\n",
       "Min.Price           0.492878     0.428603        0.376642      0.413485   \n",
       "Price               0.456028     0.392590        0.311499      0.366569   \n",
       "Max.Price           0.408414     0.347785        0.247260      0.315315   \n",
       "MPG.city           -0.720534    -0.666389       -0.384347     -0.494894   \n",
       "MPG.highway        -0.640359    -0.593683       -0.366684     -0.371629   \n",
       "EngineSize          0.867110     0.778464        0.502750      0.680827   \n",
       "Horsepower          0.644413     0.561216        0.256732      0.359217   \n",
       "RPM                -0.539721    -0.505651       -0.342175     -0.524845   \n",
       "Rev.per.mile       -0.780460    -0.733160       -0.377010     -0.592792   \n",
       "Fuel.tank.capacity  0.798719     0.671343        0.509689      0.613437   \n",
       "Passengers          0.489979     0.449025        0.694134      0.653317   \n",
       "Length              0.822148     0.738955        0.549958      0.712962   \n",
       "Wheelbase           0.807213     0.723324        0.667259      0.734127   \n",
       "Width               1.000000     0.817854        0.465618      0.673490   \n",
       "Turn.circle         0.817854     1.000000        0.466328      0.585018   \n",
       "Rear.seat.room      0.465618     0.466328        1.000000      0.651968   \n",
       "Luggage.room        0.673490     0.585018        0.651968      1.000000   \n",
       "Weight              0.874961     0.778043        0.526250      0.637226   \n",
       "\n",
       "                      Weight  \n",
       "Min.Price           0.666554  \n",
       "Price               0.647179  \n",
       "Max.Price           0.605142  \n",
       "MPG.city           -0.843139  \n",
       "MPG.highway        -0.810658  \n",
       "EngineSize          0.845075  \n",
       "Horsepower          0.738798  \n",
       "RPM                -0.427931  \n",
       "Rev.per.mile       -0.735264  \n",
       "Fuel.tank.capacity  0.894018  \n",
       "Passengers          0.553273  \n",
       "Length              0.806274  \n",
       "Wheelbase           0.871895  \n",
       "Width               0.874961  \n",
       "Turn.circle         0.778043  \n",
       "Rear.seat.room      0.526250  \n",
       "Luggage.room        0.637226  \n",
       "Weight              1.000000  "
      ]
     },
     "execution_count": 12,
     "metadata": {},
     "output_type": "execute_result"
    }
   ],
   "source": [
    "df.corr()"
   ]
  },
  {
   "cell_type": "code",
   "execution_count": 13,
   "metadata": {},
   "outputs": [],
   "source": [
    "#### 1)we can drop minprice and max price\n",
    "#### 2) MPG.city,MPG.highway levene test\n",
    "#### 3) RPM and Passenger, trick is go to least one,if any variable passing for this course all other variable/coeff  will automatically pass"
   ]
  },
  {
   "cell_type": "code",
   "execution_count": 4,
   "metadata": {},
   "outputs": [],
   "source": [
    "df.drop(['Min.Price','Max.Price'],axis=1,inplace=True)\n"
   ]
  },
  {
   "cell_type": "code",
   "execution_count": 5,
   "metadata": {},
   "outputs": [],
   "source": [
    "df.drop(['Origin'],axis=1,inplace=True)\n"
   ]
  },
  {
   "cell_type": "markdown",
   "metadata": {},
   "source": [
    "## 3)Passenger Column\n",
    "#### For Passenger we should do ANNOVA test (2 continous variable)\n",
    "#### Statictically check for Passenger"
   ]
  },
  {
   "cell_type": "code",
   "execution_count": 16,
   "metadata": {},
   "outputs": [
    {
     "data": {
      "text/plain": [
       "<matplotlib.axes._subplots.AxesSubplot at 0x2305a1bce08>"
      ]
     },
     "execution_count": 16,
     "metadata": {},
     "output_type": "execute_result"
    },
    {
     "data": {
      "image/png": "[encoded data removed]",
      "text/plain": [
       "<Figure size 432x288 with 1 Axes>"
      ]
     },
     "metadata": {
      "needs_background": "light"
     },
     "output_type": "display_data"
    }
   ],
   "source": [
    "df.boxplot(column='Price',by='Passengers')"
   ]
  },
  {
   "cell_type": "markdown",
   "metadata": {},
   "source": [
    "#### Inference from Box plot :-  There is significant difference bet mean , \n",
    "### Proving it statiscally"
   ]
  },
  {
   "cell_type": "code",
   "execution_count": 17,
   "metadata": {},
   "outputs": [
    {
     "data": {
      "text/plain": [
       "F_onewayResult(statistic=2.6018557172397405, pvalue=0.030546276659861087)"
      ]
     },
     "execution_count": 17,
     "metadata": {},
     "output_type": "execute_result"
    }
   ],
   "source": [
    "P1=df[df['Passengers']==2]\n",
    "P2=df[df['Passengers']==4]\n",
    "P3=df[df['Passengers']==5]\n",
    "P4=df[df['Passengers']==6]\n",
    "P6=df[df['Passengers']==7]\n",
    "P5=df[df['Passengers']==8]\n",
    "f_oneway(P1['Price'],P2['Price'],P3['Price'],P4['Price'],P5['Price'],P6['Price'])"
   ]
  },
  {
   "cell_type": "code",
   "execution_count": 18,
   "metadata": {},
   "outputs": [],
   "source": [
    "#### Pvalue is less than 0.005, Reject ,Ho "
   ]
  },
  {
   "cell_type": "code",
   "execution_count": 19,
   "metadata": {},
   "outputs": [],
   "source": [
    "#### HO:-average price of P1...P5, HOLDS FALSE"
   ]
  },
  {
   "cell_type": "code",
   "execution_count": null,
   "metadata": {},
   "outputs": [],
   "source": []
  },
  {
   "cell_type": "markdown",
   "metadata": {},
   "source": [
    "## 4) RPM column\n",
    "#### For Rpm we should do levene test (2 continous variable)\n",
    "#### Statictically check for RPM"
   ]
  },
  {
   "cell_type": "code",
   "execution_count": 20,
   "metadata": {},
   "outputs": [
    {
     "data": {
      "text/plain": [
       "LeveneResult(statistic=2.796101149756695, pvalue=0.09619342929244948)"
      ]
     },
     "execution_count": 20,
     "metadata": {},
     "output_type": "execute_result"
    }
   ],
   "source": [
    "\n",
    "#levene(df['RPM'],df['Price'])\n",
    "\n",
    "levene(df['Wheelbase'],df['Price'])\n",
    "## HO->VARIANCE OF Wheelbase AND Price should be equal"
   ]
  },
  {
   "cell_type": "markdown",
   "metadata": {},
   "source": [
    "## when to do Bartlett:-\n",
    "## When we do not have any normal distribution for column go:-\n",
    "### Step 1:- Go for Bartlett test(as it it will take care of skewness of the data(internally applies some log)\n",
    "### Step 2:- Levene test (as it assumes that variable has normal distribution hence, and it gives the  probability of area under curve, which is pvalue)\n",
    "## levene and bartlett are test of means\n",
    "## Manwhitney:-unpaired\n",
    "## WillCox:- For paired"
   ]
  },
  {
   "cell_type": "code",
   "execution_count": 21,
   "metadata": {},
   "outputs": [],
   "source": [
    "# To know if your data is normally distributed\n",
    "## Shapiro test :- Test of normality \n",
    "#### Ho :- Data is normal\n",
    "### different ways to check normality:-\n",
    "#### histogram (visually)\n",
    "#### describe"
   ]
  },
  {
   "cell_type": "code",
   "execution_count": null,
   "metadata": {},
   "outputs": [],
   "source": []
  },
  {
   "cell_type": "code",
   "execution_count": 22,
   "metadata": {},
   "outputs": [
    {
     "name": "stdout",
     "output_type": "stream",
     "text": [
      "92.30130419701698\n",
      "352259.7988206728\n",
      "Hence proved that both variance are difeerent , reject Ho\n"
     ]
    }
   ],
   "source": [
    "print(np.var(df['Price']))\n",
    "print(np.var(df['RPM']))\n",
    "print('Hence proved that both variance are difeerent , reject Ho')"
   ]
  },
  {
   "cell_type": "code",
   "execution_count": 23,
   "metadata": {},
   "outputs": [],
   "source": [
    "#### 1) as pvalue=1.6713019431460332e-29 we reject the null hypothesis, CLEARS STATISCAL TEST\n",
    "#### 2) Ho:- Variance of RPM=variance of Price,  \n",
    "#### 3) we cannot drop RPM"
   ]
  },
  {
   "cell_type": "code",
   "execution_count": 24,
   "metadata": {},
   "outputs": [
    {
     "data": {
      "text/plain": [
       "Index(['Type', 'Price', 'MPG.city', 'MPG.highway', 'AirBags', 'DriveTrain',\n",
       "       'Cylinders', 'EngineSize', 'Horsepower', 'RPM', 'Rev.per.mile',\n",
       "       'Man.trans.avail', 'Fuel.tank.capacity', 'Passengers', 'Length',\n",
       "       'Wheelbase', 'Width', 'Turn.circle', 'Rear.seat.room', 'Luggage.room',\n",
       "       'Weight'],\n",
       "      dtype='object')"
      ]
     },
     "execution_count": 24,
     "metadata": {},
     "output_type": "execute_result"
    }
   ],
   "source": [
    "## cONVERT CATEGORICALS\n",
    "df.columns"
   ]
  },
  {
   "cell_type": "markdown",
   "metadata": {},
   "source": [
    "## 5) AirBags Column"
   ]
  },
  {
   "cell_type": "code",
   "execution_count": 67,
   "metadata": {},
   "outputs": [
    {
     "data": {
      "text/plain": [
       "<matplotlib.axes._subplots.AxesSubplot at 0x2297ccfee48>"
      ]
     },
     "execution_count": 67,
     "metadata": {},
     "output_type": "execute_result"
    },
    {
     "data": {
      "image/png": "[encoded data removed]",
      "text/plain": [
       "<Figure size 432x288 with 1 Axes>"
      ]
     },
     "metadata": {
      "needs_background": "light"
     },
     "output_type": "display_data"
    }
   ],
   "source": [
    "df.boxplot(column='Price',by='AirBags')"
   ]
  },
  {
   "cell_type": "code",
   "execution_count": 68,
   "metadata": {},
   "outputs": [
    {
     "data": {
      "text/plain": [
       "F_onewayResult(statistic=21.177572370824052, pvalue=2.9011868198272466e-08)"
      ]
     },
     "execution_count": 68,
     "metadata": {},
     "output_type": "execute_result"
    }
   ],
   "source": [
    "t1=df[df['AirBags']=='Driver & Passenger']\n",
    "t2=df[df['AirBags']=='Driver only']\n",
    "t3=df[df['AirBags']=='None']\n",
    "f_oneway(t1['Price'],t2['Price'],t3['Price'])"
   ]
  },
  {
   "cell_type": "code",
   "execution_count": 69,
   "metadata": {},
   "outputs": [],
   "source": [
    "### 1)As pvalue less than 0.005 , hence significant, Reject null hypothesis\n",
    "### 2) Ho := Price of 'Driver & Passenger'= Driver= None "
   ]
  },
  {
   "cell_type": "markdown",
   "metadata": {},
   "source": [
    "## 5) DriveTrain"
   ]
  },
  {
   "cell_type": "code",
   "execution_count": 70,
   "metadata": {},
   "outputs": [
    {
     "data": {
      "text/plain": [
       "<matplotlib.axes._subplots.AxesSubplot at 0x2297cde8388>"
      ]
     },
     "execution_count": 70,
     "metadata": {},
     "output_type": "execute_result"
    },
    {
     "data": {
      "image/png": "[encoded data removed]",
      "text/plain": [
       "<Figure size 432x288 with 1 Axes>"
      ]
     },
     "metadata": {
      "needs_background": "light"
     },
     "output_type": "display_data"
    }
   ],
   "source": [
    "df.boxplot(column='Price',by='DriveTrain')"
   ]
  },
  {
   "cell_type": "code",
   "execution_count": 71,
   "metadata": {},
   "outputs": [
    {
     "data": {
      "text/plain": [
       "F_onewayResult(statistic=11.294939455410354, pvalue=4.201864877251638e-05)"
      ]
     },
     "execution_count": 71,
     "metadata": {},
     "output_type": "execute_result"
    }
   ],
   "source": [
    "t1=df[df['DriveTrain']=='4WD']\n",
    "t2=df[df['DriveTrain']=='Front']\n",
    "t3=df[df['DriveTrain']=='Rear']\n",
    "f_oneway(t1['Price'],t2['Price'],t3['Price'])"
   ]
  },
  {
   "cell_type": "code",
   "execution_count": 72,
   "metadata": {},
   "outputs": [],
   "source": [
    "### Passing the test"
   ]
  },
  {
   "cell_type": "markdown",
   "metadata": {},
   "source": [
    "## 6) cylinders"
   ]
  },
  {
   "cell_type": "code",
   "execution_count": 73,
   "metadata": {},
   "outputs": [
    {
     "data": {
      "text/plain": [
       "<matplotlib.axes._subplots.AxesSubplot at 0x2297ce7b5c8>"
      ]
     },
     "execution_count": 73,
     "metadata": {},
     "output_type": "execute_result"
    },
    {
     "data": {
      "image/png": "[encoded data removed]",
      "text/plain": [
       "<Figure size 432x288 with 1 Axes>"
      ]
     },
     "metadata": {
      "needs_background": "light"
     },
     "output_type": "display_data"
    }
   ],
   "source": [
    "df.boxplot(column='Price',by='Cylinders')"
   ]
  },
  {
   "cell_type": "code",
   "execution_count": 74,
   "metadata": {},
   "outputs": [
    {
     "data": {
      "text/plain": [
       "F_onewayResult(statistic=14.36328753683352, pvalue=3.042776105990462e-10)"
      ]
     },
     "execution_count": 74,
     "metadata": {},
     "output_type": "execute_result"
    }
   ],
   "source": [
    "t1 = df[df['Cylinders']=='4']['Price']\n",
    "t2 = df[df['Cylinders']=='6']['Price']\n",
    "t3 = df[df['Cylinders']=='8']['Price']\n",
    "t4 = df[df['Cylinders']=='3']['Price']\n",
    "t5 = df[df['Cylinders']=='rotary']['Price']\n",
    "t6 = df[df['Cylinders']=='5']['Price']\n",
    "\n",
    "f_oneway(t1,t2,t3,t4,t5,t6)\n",
    "\n",
    "# significant"
   ]
  },
  {
   "cell_type": "code",
   "execution_count": 75,
   "metadata": {},
   "outputs": [
    {
     "name": "stdout",
     "output_type": "stream",
     "text": [
      "<class 'pandas.core.frame.DataFrame'>\n",
      "Int64Index: 93 entries, 1 to 93\n",
      "Data columns (total 21 columns):\n",
      "Type                  93 non-null object\n",
      "Price                 93 non-null float64\n",
      "MPG.city              93 non-null int64\n",
      "MPG.highway           93 non-null int64\n",
      "AirBags               93 non-null object\n",
      "DriveTrain            93 non-null object\n",
      "Cylinders             93 non-null object\n",
      "EngineSize            93 non-null float64\n",
      "Horsepower            93 non-null int64\n",
      "RPM                   93 non-null int64\n",
      "Rev.per.mile          93 non-null int64\n",
      "Man.trans.avail       93 non-null object\n",
      "Fuel.tank.capacity    93 non-null float64\n",
      "Passengers            93 non-null int64\n",
      "Length                93 non-null int64\n",
      "Wheelbase             93 non-null int64\n",
      "Width                 93 non-null int64\n",
      "Turn.circle           93 non-null int64\n",
      "Rear.seat.room        91 non-null float64\n",
      "Luggage.room          82 non-null float64\n",
      "Weight                93 non-null int64\n",
      "dtypes: float64(5), int64(11), object(5)\n",
      "memory usage: 16.0+ KB\n"
     ]
    }
   ],
   "source": [
    "### Passing the test\n",
    "df.info()"
   ]
  },
  {
   "cell_type": "markdown",
   "metadata": {},
   "source": [
    "## Define X and y"
   ]
  },
  {
   "cell_type": "code",
   "execution_count": 4,
   "metadata": {},
   "outputs": [],
   "source": [
    "X=df.drop(['Price'],axis=1)\n",
    "y=df['Price']"
   ]
  },
  {
   "cell_type": "markdown",
   "metadata": {},
   "source": [
    "## Treat categorical datas"
   ]
  },
  {
   "cell_type": "code",
   "execution_count": 5,
   "metadata": {},
   "outputs": [],
   "source": [
    "df['Man.trans.avail'].replace({'Yes':1,'No':0},inplace = True)\n",
    "\n",
    "df['Cylinders'].replace({'3':0,'4':1,'6':2,'5':3,'rotary':4,'8':5},inplace = True)\n",
    "\n",
    "df['AirBags'].replace({'Driver & Passenger':2,'Driver only':1,'None':0},inplace = True)\n",
    "df['Passengers'].replace({4:0,5:1,8:2,7:3,6:4,2:5}, inplace = True)\n",
    "\n",
    "df['DriveTrain'].replace({'Front':0,'Rear':2,'4WD':1},inplace = True)\n",
    "\n",
    "df['Type'].replace({'Small':0,'Midsize':5,'Large':4,'Van':3,'Sporty':2,'Compact':1},inplace = True)"
   ]
  },
  {
   "cell_type": "code",
   "execution_count": 6,
   "metadata": {},
   "outputs": [],
   "source": [
    "df['Rear.seat.room'].fillna(df['Rear.seat.room'].median(),inplace = True)\n",
    "df['Luggage.room'].fillna(df['Luggage.room'].median(),inplace = True)"
   ]
  },
  {
   "cell_type": "code",
   "execution_count": 11,
   "metadata": {},
   "outputs": [],
   "source": [
    "## Statiscal Model :(Including all columns)"
   ]
  },
  {
   "cell_type": "code",
   "execution_count": null,
   "metadata": {},
   "outputs": [],
   "source": []
  },
  {
   "cell_type": "code",
   "execution_count": 12,
   "metadata": {},
   "outputs": [],
   "source": [
    "## Calculate Training Error"
   ]
  },
  {
   "cell_type": "code",
   "execution_count": 13,
   "metadata": {},
   "outputs": [],
   "source": [
    "X=df.drop(['Price'],axis=1)\n",
    "y=df['Price']"
   ]
  },
  {
   "cell_type": "code",
   "execution_count": 14,
   "metadata": {},
   "outputs": [
    {
     "data": {
      "text/plain": [
       "LinearRegression(copy_X=True, fit_intercept=True, n_jobs=None, normalize=False)"
      ]
     },
     "execution_count": 14,
     "metadata": {},
     "output_type": "execute_result"
    }
   ],
   "source": [
    "model=LinearRegression()\n",
    "model.fit(X,y)"
   ]
  },
  {
   "cell_type": "code",
   "execution_count": 15,
   "metadata": {},
   "outputs": [],
   "source": [
    "y_pred=model.predict(X)"
   ]
  },
  {
   "cell_type": "code",
   "execution_count": 16,
   "metadata": {},
   "outputs": [
    {
     "data": {
      "text/plain": [
       "16.239481610992975"
      ]
     },
     "execution_count": 16,
     "metadata": {},
     "output_type": "execute_result"
    }
   ],
   "source": [
    "### let us now calvulate the training error or the Mean Squared error value of y_pred, out intention is to reduce this score\n",
    "np.mean((y-y_pred)**2)"
   ]
  },
  {
   "cell_type": "markdown",
   "metadata": {},
   "source": [
    "# Model 1: With all 21 features"
   ]
  },
  {
   "cell_type": "code",
   "execution_count": 17,
   "metadata": {},
   "outputs": [],
   "source": [
    "### we cant judge performance based on this so we will perform K fold validation"
   ]
  },
  {
   "cell_type": "code",
   "execution_count": 18,
   "metadata": {},
   "outputs": [],
   "source": [
    "## If we wish to see performance of model knn and lr "
   ]
  },
  {
   "cell_type": "code",
   "execution_count": 19,
   "metadata": {},
   "outputs": [],
   "source": [
    "from sklearn.neighbors import KNeighborsRegressor\n",
    "from sklearn.tree import DecisionTreeClassifier\n",
    "from sklearn.model_selection import GridSearchCV\n",
    "from sklearn import model_selection\n",
    "KNN=KNeighborsRegressor(n_neighbors=7)\n",
    "LR=LinearRegression()"
   ]
  },
  {
   "cell_type": "code",
   "execution_count": 20,
   "metadata": {},
   "outputs": [],
   "source": [
    "models=[]\n",
    "results=[]\n",
    "names=[]\n",
    "models.append(('MVLR',LR))\n",
    "models.append(('KNearestNeighbours',KNN))"
   ]
  },
  {
   "cell_type": "code",
   "execution_count": 21,
   "metadata": {},
   "outputs": [],
   "source": [
    "# EVALUAT EACH MODEL IN TURN"
   ]
  },
  {
   "cell_type": "code",
   "execution_count": 22,
   "metadata": {},
   "outputs": [
    {
     "name": "stdout",
     "output_type": "stream",
     "text": [
      "MVLR: 5.196223 (0.981992)\n",
      "KNearestNeighbours: 6.944202 (2.892567)\n"
     ]
    }
   ],
   "source": [
    "\n",
    "for name, model in models:\n",
    "    \n",
    "    kfold=model_selection.KFold(shuffle=True,n_splits=3,random_state=0)\n",
    "    #1)Model.fitwith (takes entire X and Y) \n",
    "    #2)Randomly X divided into 3 folds fold1, fold2 fold3\n",
    "    #3)Model.predict\n",
    "    #4)3 scores stored in cv_results\n",
    "    cv_results = model_selection.cross_val_score(model, X, y,cv=kfold, scoring='neg_mean_squared_error') ## here this function \n",
    "    #would return negative becaues of the value in parameter -scoring neg mean score i.e MSE value it will store , further we will see the abssolute of it\n",
    "    results.append(np.sqrt(abs(cv_results))) ## here np.sqrt will give me proper RMSE from MSE\n",
    "    names.append(name)\n",
    "    print(\"%s: %f (%f)\" % (name, np.mean(np.sqrt(np.abs(cv_results))),\n",
    "                           np.var(np.sqrt(np.abs(cv_results)),ddof=1)))###(ddof=1,n-1)\n",
    "    "
   ]
  },
  {
   "cell_type": "markdown",
   "metadata": {},
   "source": [
    "### inference :-\n",
    "MVLR: 5.196223 (0.981992)-->less var error\n",
    "KNearestNeighbours: 6.944202 (2.892567) -->High var error"
   ]
  },
  {
   "cell_type": "code",
   "execution_count": 23,
   "metadata": {},
   "outputs": [],
   "source": [
    "## we should keep all "
   ]
  },
  {
   "cell_type": "code",
   "execution_count": null,
   "metadata": {},
   "outputs": [],
   "source": []
  },
  {
   "cell_type": "markdown",
   "metadata": {},
   "source": [
    "## Box plot algorithm comparison"
   ]
  },
  {
   "cell_type": "code",
   "execution_count": 24,
   "metadata": {},
   "outputs": [
    {
     "data": {
      "image/png": "[encoded data removed]",
      "text/plain": [
       "<Figure size 432x288 with 1 Axes>"
      ]
     },
     "metadata": {
      "needs_background": "light"
     },
     "output_type": "display_data"
    }
   ],
   "source": [
    "\n",
    "fig = plt.figure()\n",
    "fig.suptitle('Algorithm Comparison')\n",
    "ax = fig.add_subplot(111)\n",
    "plt.boxplot(results)\n",
    "ax.set_xticklabels(names)\n",
    "plt.show()"
   ]
  },
  {
   "cell_type": "code",
   "execution_count": 25,
   "metadata": {},
   "outputs": [],
   "source": [
    "## doubt :- orange line is mean or median\n",
    "## how to plot variance (width of box )and bais error from this"
   ]
  },
  {
   "cell_type": "code",
   "execution_count": 26,
   "metadata": {},
   "outputs": [
    {
     "name": "stderr",
     "output_type": "stream",
     "text": [
      "C:\\Users\\kaveri\\Anaconda3\\lib\\site-packages\\numpy\\core\\fromnumeric.py:2389: FutureWarning: Method .ptp is deprecated and will be removed in a future version. Use numpy.ptp instead.\n",
      "  return ptp(axis=axis, out=out, **kwargs)\n"
     ]
    },
    {
     "data": {
      "text/html": [
       "<div>\n",
       "<style scoped>\n",
       "    .dataframe tbody tr th:only-of-type {\n",
       "        vertical-align: middle;\n",
       "    }\n",
       "\n",
       "    .dataframe tbody tr th {\n",
       "        vertical-align: top;\n",
       "    }\n",
       "\n",
       "    .dataframe thead th {\n",
       "        text-align: right;\n",
       "    }\n",
       "</style>\n",
       "<table border=\"1\" class=\"dataframe\">\n",
       "  <thead>\n",
       "    <tr style=\"text-align: right;\">\n",
       "      <th></th>\n",
       "      <th>const</th>\n",
       "      <th>Type</th>\n",
       "      <th>MPG.city</th>\n",
       "      <th>MPG.highway</th>\n",
       "      <th>AirBags</th>\n",
       "      <th>DriveTrain</th>\n",
       "      <th>Cylinders</th>\n",
       "      <th>EngineSize</th>\n",
       "      <th>Horsepower</th>\n",
       "      <th>RPM</th>\n",
       "      <th>...</th>\n",
       "      <th>Man.trans.avail</th>\n",
       "      <th>Fuel.tank.capacity</th>\n",
       "      <th>Passengers</th>\n",
       "      <th>Length</th>\n",
       "      <th>Wheelbase</th>\n",
       "      <th>Width</th>\n",
       "      <th>Turn.circle</th>\n",
       "      <th>Rear.seat.room</th>\n",
       "      <th>Luggage.room</th>\n",
       "      <th>Weight</th>\n",
       "    </tr>\n",
       "  </thead>\n",
       "  <tbody>\n",
       "    <tr>\n",
       "      <td>1</td>\n",
       "      <td>1.0</td>\n",
       "      <td>0</td>\n",
       "      <td>25</td>\n",
       "      <td>31</td>\n",
       "      <td>0</td>\n",
       "      <td>0</td>\n",
       "      <td>1</td>\n",
       "      <td>1.8</td>\n",
       "      <td>140</td>\n",
       "      <td>6300</td>\n",
       "      <td>...</td>\n",
       "      <td>1</td>\n",
       "      <td>13.2</td>\n",
       "      <td>1</td>\n",
       "      <td>177</td>\n",
       "      <td>102</td>\n",
       "      <td>68</td>\n",
       "      <td>37</td>\n",
       "      <td>26.5</td>\n",
       "      <td>11.0</td>\n",
       "      <td>2705</td>\n",
       "    </tr>\n",
       "    <tr>\n",
       "      <td>2</td>\n",
       "      <td>1.0</td>\n",
       "      <td>5</td>\n",
       "      <td>18</td>\n",
       "      <td>25</td>\n",
       "      <td>2</td>\n",
       "      <td>0</td>\n",
       "      <td>2</td>\n",
       "      <td>3.2</td>\n",
       "      <td>200</td>\n",
       "      <td>5500</td>\n",
       "      <td>...</td>\n",
       "      <td>1</td>\n",
       "      <td>18.0</td>\n",
       "      <td>1</td>\n",
       "      <td>195</td>\n",
       "      <td>115</td>\n",
       "      <td>71</td>\n",
       "      <td>38</td>\n",
       "      <td>30.0</td>\n",
       "      <td>15.0</td>\n",
       "      <td>3560</td>\n",
       "    </tr>\n",
       "    <tr>\n",
       "      <td>3</td>\n",
       "      <td>1.0</td>\n",
       "      <td>1</td>\n",
       "      <td>20</td>\n",
       "      <td>26</td>\n",
       "      <td>1</td>\n",
       "      <td>0</td>\n",
       "      <td>2</td>\n",
       "      <td>2.8</td>\n",
       "      <td>172</td>\n",
       "      <td>5500</td>\n",
       "      <td>...</td>\n",
       "      <td>1</td>\n",
       "      <td>16.9</td>\n",
       "      <td>1</td>\n",
       "      <td>180</td>\n",
       "      <td>102</td>\n",
       "      <td>67</td>\n",
       "      <td>37</td>\n",
       "      <td>28.0</td>\n",
       "      <td>14.0</td>\n",
       "      <td>3375</td>\n",
       "    </tr>\n",
       "    <tr>\n",
       "      <td>4</td>\n",
       "      <td>1.0</td>\n",
       "      <td>5</td>\n",
       "      <td>19</td>\n",
       "      <td>26</td>\n",
       "      <td>2</td>\n",
       "      <td>0</td>\n",
       "      <td>2</td>\n",
       "      <td>2.8</td>\n",
       "      <td>172</td>\n",
       "      <td>5500</td>\n",
       "      <td>...</td>\n",
       "      <td>1</td>\n",
       "      <td>21.1</td>\n",
       "      <td>4</td>\n",
       "      <td>193</td>\n",
       "      <td>106</td>\n",
       "      <td>70</td>\n",
       "      <td>37</td>\n",
       "      <td>31.0</td>\n",
       "      <td>17.0</td>\n",
       "      <td>3405</td>\n",
       "    </tr>\n",
       "    <tr>\n",
       "      <td>5</td>\n",
       "      <td>1.0</td>\n",
       "      <td>5</td>\n",
       "      <td>22</td>\n",
       "      <td>30</td>\n",
       "      <td>1</td>\n",
       "      <td>2</td>\n",
       "      <td>1</td>\n",
       "      <td>3.5</td>\n",
       "      <td>208</td>\n",
       "      <td>5700</td>\n",
       "      <td>...</td>\n",
       "      <td>1</td>\n",
       "      <td>21.1</td>\n",
       "      <td>0</td>\n",
       "      <td>186</td>\n",
       "      <td>109</td>\n",
       "      <td>69</td>\n",
       "      <td>39</td>\n",
       "      <td>27.0</td>\n",
       "      <td>13.0</td>\n",
       "      <td>3640</td>\n",
       "    </tr>\n",
       "  </tbody>\n",
       "</table>\n",
       "<p>5 rows × 21 columns</p>\n",
       "</div>"
      ],
      "text/plain": [
       "   const  Type  MPG.city  MPG.highway  AirBags  DriveTrain  Cylinders  \\\n",
       "1    1.0     0        25           31        0           0          1   \n",
       "2    1.0     5        18           25        2           0          2   \n",
       "3    1.0     1        20           26        1           0          2   \n",
       "4    1.0     5        19           26        2           0          2   \n",
       "5    1.0     5        22           30        1           2          1   \n",
       "\n",
       "   EngineSize  Horsepower   RPM  ...  Man.trans.avail  Fuel.tank.capacity  \\\n",
       "1         1.8         140  6300  ...                1                13.2   \n",
       "2         3.2         200  5500  ...                1                18.0   \n",
       "3         2.8         172  5500  ...                1                16.9   \n",
       "4         2.8         172  5500  ...                1                21.1   \n",
       "5         3.5         208  5700  ...                1                21.1   \n",
       "\n",
       "   Passengers  Length  Wheelbase  Width  Turn.circle  Rear.seat.room  \\\n",
       "1           1     177        102     68           37            26.5   \n",
       "2           1     195        115     71           38            30.0   \n",
       "3           1     180        102     67           37            28.0   \n",
       "4           4     193        106     70           37            31.0   \n",
       "5           0     186        109     69           39            27.0   \n",
       "\n",
       "   Luggage.room  Weight  \n",
       "1          11.0    2705  \n",
       "2          15.0    3560  \n",
       "3          14.0    3375  \n",
       "4          17.0    3405  \n",
       "5          13.0    3640  \n",
       "\n",
       "[5 rows x 21 columns]"
      ]
     },
     "execution_count": 26,
     "metadata": {},
     "output_type": "execute_result"
    }
   ],
   "source": [
    "import statsmodels.api as sm\n",
    "from statsmodels.api import add_constant\n",
    "Xc=sm.add_constant(X)\n",
    "#  it is used in OLS only not in sklearn\n",
    "model=sm.OLS(y,Xc).fit()\n",
    "Xc.head()\n",
    "## here one is the multiplication factor to Beta0\n",
    "## doubt here in this table we have all the coefficients.. of 20 cols, it has cols rowwise as well"
   ]
  },
  {
   "cell_type": "code",
   "execution_count": 27,
   "metadata": {},
   "outputs": [
    {
     "data": {
      "text/html": [
       "<table class=\"simpletable\">\n",
       "<caption>OLS Regression Results</caption>\n",
       "<tr>\n",
       "  <th>Dep. Variable:</th>          <td>Price</td>      <th>  R-squared:         </th> <td>   0.824</td>\n",
       "</tr>\n",
       "<tr>\n",
       "  <th>Model:</th>                   <td>OLS</td>       <th>  Adj. R-squared:    </th> <td>   0.775</td>\n",
       "</tr>\n",
       "<tr>\n",
       "  <th>Method:</th>             <td>Least Squares</td>  <th>  F-statistic:       </th> <td>   16.86</td>\n",
       "</tr>\n",
       "<tr>\n",
       "  <th>Date:</th>             <td>Tue, 25 Feb 2020</td> <th>  Prob (F-statistic):</th> <td>1.11e-19</td>\n",
       "</tr>\n",
       "<tr>\n",
       "  <th>Time:</th>                 <td>21:29:18</td>     <th>  Log-Likelihood:    </th> <td> -261.58</td>\n",
       "</tr>\n",
       "<tr>\n",
       "  <th>No. Observations:</th>      <td>    93</td>      <th>  AIC:               </th> <td>   565.2</td>\n",
       "</tr>\n",
       "<tr>\n",
       "  <th>Df Residuals:</th>          <td>    72</td>      <th>  BIC:               </th> <td>   618.3</td>\n",
       "</tr>\n",
       "<tr>\n",
       "  <th>Df Model:</th>              <td>    20</td>      <th>                     </th>     <td> </td>   \n",
       "</tr>\n",
       "<tr>\n",
       "  <th>Covariance Type:</th>      <td>nonrobust</td>    <th>                     </th>     <td> </td>   \n",
       "</tr>\n",
       "</table>\n",
       "<table class=\"simpletable\">\n",
       "<tr>\n",
       "           <td></td>             <th>coef</th>     <th>std err</th>      <th>t</th>      <th>P>|t|</th>  <th>[0.025</th>    <th>0.975]</th>  \n",
       "</tr>\n",
       "<tr>\n",
       "  <th>const</th>              <td>   89.5120</td> <td>   26.213</td> <td>    3.415</td> <td> 0.001</td> <td>   37.258</td> <td>  141.766</td>\n",
       "</tr>\n",
       "<tr>\n",
       "  <th>Type</th>               <td>    1.0151</td> <td>    0.441</td> <td>    2.303</td> <td> 0.024</td> <td>    0.137</td> <td>    1.894</td>\n",
       "</tr>\n",
       "<tr>\n",
       "  <th>MPG.city</th>           <td>   -0.1216</td> <td>    0.374</td> <td>   -0.325</td> <td> 0.746</td> <td>   -0.867</td> <td>    0.624</td>\n",
       "</tr>\n",
       "<tr>\n",
       "  <th>MPG.highway</th>        <td>   -0.0682</td> <td>    0.363</td> <td>   -0.188</td> <td> 0.852</td> <td>   -0.792</td> <td>    0.656</td>\n",
       "</tr>\n",
       "<tr>\n",
       "  <th>AirBags</th>            <td>    3.6764</td> <td>    0.871</td> <td>    4.221</td> <td> 0.000</td> <td>    1.940</td> <td>    5.413</td>\n",
       "</tr>\n",
       "<tr>\n",
       "  <th>DriveTrain</th>         <td>    1.6293</td> <td>    0.809</td> <td>    2.013</td> <td> 0.048</td> <td>    0.016</td> <td>    3.242</td>\n",
       "</tr>\n",
       "<tr>\n",
       "  <th>Cylinders</th>          <td>    0.8312</td> <td>    0.781</td> <td>    1.064</td> <td> 0.291</td> <td>   -0.726</td> <td>    2.389</td>\n",
       "</tr>\n",
       "<tr>\n",
       "  <th>EngineSize</th>         <td>    1.0645</td> <td>    1.635</td> <td>    0.651</td> <td> 0.517</td> <td>   -2.195</td> <td>    4.324</td>\n",
       "</tr>\n",
       "<tr>\n",
       "  <th>Horsepower</th>         <td>    0.1153</td> <td>    0.032</td> <td>    3.599</td> <td> 0.001</td> <td>    0.051</td> <td>    0.179</td>\n",
       "</tr>\n",
       "<tr>\n",
       "  <th>RPM</th>                <td>   -0.0014</td> <td>    0.002</td> <td>   -0.779</td> <td> 0.438</td> <td>   -0.005</td> <td>    0.002</td>\n",
       "</tr>\n",
       "<tr>\n",
       "  <th>Rev.per.mile</th>       <td>    0.0021</td> <td>    0.002</td> <td>    1.026</td> <td> 0.309</td> <td>   -0.002</td> <td>    0.006</td>\n",
       "</tr>\n",
       "<tr>\n",
       "  <th>Man.trans.avail</th>    <td>   -1.2616</td> <td>    1.755</td> <td>   -0.719</td> <td> 0.475</td> <td>   -4.761</td> <td>    2.238</td>\n",
       "</tr>\n",
       "<tr>\n",
       "  <th>Fuel.tank.capacity</th> <td>    0.1933</td> <td>    0.399</td> <td>    0.484</td> <td> 0.630</td> <td>   -0.602</td> <td>    0.989</td>\n",
       "</tr>\n",
       "<tr>\n",
       "  <th>Passengers</th>         <td>   -0.1002</td> <td>    0.523</td> <td>   -0.192</td> <td> 0.848</td> <td>   -1.142</td> <td>    0.941</td>\n",
       "</tr>\n",
       "<tr>\n",
       "  <th>Length</th>             <td>   -0.0003</td> <td>    0.081</td> <td>   -0.004</td> <td> 0.997</td> <td>   -0.161</td> <td>    0.161</td>\n",
       "</tr>\n",
       "<tr>\n",
       "  <th>Wheelbase</th>          <td>    0.2660</td> <td>    0.210</td> <td>    1.270</td> <td> 0.208</td> <td>   -0.152</td> <td>    0.684</td>\n",
       "</tr>\n",
       "<tr>\n",
       "  <th>Width</th>              <td>   -1.5041</td> <td>    0.378</td> <td>   -3.975</td> <td> 0.000</td> <td>   -2.258</td> <td>   -0.750</td>\n",
       "</tr>\n",
       "<tr>\n",
       "  <th>Turn.circle</th>        <td>   -0.6566</td> <td>    0.296</td> <td>   -2.219</td> <td> 0.030</td> <td>   -1.246</td> <td>   -0.067</td>\n",
       "</tr>\n",
       "<tr>\n",
       "  <th>Rear.seat.room</th>     <td>    0.2524</td> <td>    0.286</td> <td>    0.884</td> <td> 0.380</td> <td>   -0.317</td> <td>    0.822</td>\n",
       "</tr>\n",
       "<tr>\n",
       "  <th>Luggage.room</th>       <td>    0.1222</td> <td>    0.297</td> <td>    0.411</td> <td> 0.682</td> <td>   -0.470</td> <td>    0.714</td>\n",
       "</tr>\n",
       "<tr>\n",
       "  <th>Weight</th>             <td>    0.0006</td> <td>    0.004</td> <td>    0.155</td> <td> 0.877</td> <td>   -0.007</td> <td>    0.008</td>\n",
       "</tr>\n",
       "</table>\n",
       "<table class=\"simpletable\">\n",
       "<tr>\n",
       "  <th>Omnibus:</th>       <td>25.166</td> <th>  Durbin-Watson:     </th> <td>   1.957</td>\n",
       "</tr>\n",
       "<tr>\n",
       "  <th>Prob(Omnibus):</th> <td> 0.000</td> <th>  Jarque-Bera (JB):  </th> <td>  65.046</td>\n",
       "</tr>\n",
       "<tr>\n",
       "  <th>Skew:</th>          <td> 0.899</td> <th>  Prob(JB):          </th> <td>7.51e-15</td>\n",
       "</tr>\n",
       "<tr>\n",
       "  <th>Kurtosis:</th>      <td> 6.681</td> <th>  Cond. No.          </th> <td>3.62e+05</td>\n",
       "</tr>\n",
       "</table><br/><br/>Warnings:<br/>[1] Standard Errors assume that the covariance matrix of the errors is correctly specified.<br/>[2] The condition number is large, 3.62e+05. This might indicate that there are<br/>strong multicollinearity or other numerical problems."
      ],
      "text/plain": [
       "<class 'statsmodels.iolib.summary.Summary'>\n",
       "\"\"\"\n",
       "                            OLS Regression Results                            \n",
       "==============================================================================\n",
       "Dep. Variable:                  Price   R-squared:                       0.824\n",
       "Model:                            OLS   Adj. R-squared:                  0.775\n",
       "Method:                 Least Squares   F-statistic:                     16.86\n",
       "Date:                Tue, 25 Feb 2020   Prob (F-statistic):           1.11e-19\n",
       "Time:                        21:29:18   Log-Likelihood:                -261.58\n",
       "No. Observations:                  93   AIC:                             565.2\n",
       "Df Residuals:                      72   BIC:                             618.3\n",
       "Df Model:                          20                                         \n",
       "Covariance Type:            nonrobust                                         \n",
       "======================================================================================\n",
       "                         coef    std err          t      P>|t|      [0.025      0.975]\n",
       "--------------------------------------------------------------------------------------\n",
       "const                 89.5120     26.213      3.415      0.001      37.258     141.766\n",
       "Type                   1.0151      0.441      2.303      0.024       0.137       1.894\n",
       "MPG.city              -0.1216      0.374     -0.325      0.746      -0.867       0.624\n",
       "MPG.highway           -0.0682      0.363     -0.188      0.852      -0.792       0.656\n",
       "AirBags                3.6764      0.871      4.221      0.000       1.940       5.413\n",
       "DriveTrain             1.6293      0.809      2.013      0.048       0.016       3.242\n",
       "Cylinders              0.8312      0.781      1.064      0.291      -0.726       2.389\n",
       "EngineSize             1.0645      1.635      0.651      0.517      -2.195       4.324\n",
       "Horsepower             0.1153      0.032      3.599      0.001       0.051       0.179\n",
       "RPM                   -0.0014      0.002     -0.779      0.438      -0.005       0.002\n",
       "Rev.per.mile           0.0021      0.002      1.026      0.309      -0.002       0.006\n",
       "Man.trans.avail       -1.2616      1.755     -0.719      0.475      -4.761       2.238\n",
       "Fuel.tank.capacity     0.1933      0.399      0.484      0.630      -0.602       0.989\n",
       "Passengers            -0.1002      0.523     -0.192      0.848      -1.142       0.941\n",
       "Length                -0.0003      0.081     -0.004      0.997      -0.161       0.161\n",
       "Wheelbase              0.2660      0.210      1.270      0.208      -0.152       0.684\n",
       "Width                 -1.5041      0.378     -3.975      0.000      -2.258      -0.750\n",
       "Turn.circle           -0.6566      0.296     -2.219      0.030      -1.246      -0.067\n",
       "Rear.seat.room         0.2524      0.286      0.884      0.380      -0.317       0.822\n",
       "Luggage.room           0.1222      0.297      0.411      0.682      -0.470       0.714\n",
       "Weight                 0.0006      0.004      0.155      0.877      -0.007       0.008\n",
       "==============================================================================\n",
       "Omnibus:                       25.166   Durbin-Watson:                   1.957\n",
       "Prob(Omnibus):                  0.000   Jarque-Bera (JB):               65.046\n",
       "Skew:                           0.899   Prob(JB):                     7.51e-15\n",
       "Kurtosis:                       6.681   Cond. No.                     3.62e+05\n",
       "==============================================================================\n",
       "\n",
       "Warnings:\n",
       "[1] Standard Errors assume that the covariance matrix of the errors is correctly specified.\n",
       "[2] The condition number is large, 3.62e+05. This might indicate that there are\n",
       "strong multicollinearity or other numerical problems.\n",
       "\"\"\""
      ]
     },
     "execution_count": 27,
     "metadata": {},
     "output_type": "execute_result"
    }
   ],
   "source": [
    "model.summary()"
   ]
  },
  {
   "cell_type": "code",
   "execution_count": 28,
   "metadata": {},
   "outputs": [
    {
     "data": {
      "text/plain": [
       "<matplotlib.collections.PathCollection at 0x18025c67708>"
      ]
     },
     "execution_count": 28,
     "metadata": {},
     "output_type": "execute_result"
    },
    {
     "data": {
      "image/png": "[encoded data removed]",
      "text/plain": [
       "<Figure size 432x288 with 1 Axes>"
      ]
     },
     "metadata": {
      "needs_background": "light"
     },
     "output_type": "display_data"
    }
   ],
   "source": [
    "## why faetures having hogh p value are not consirede got eliminated-->WHY IT IS HAVING HIGH P VALUE:-\n",
    "## CURVILINEAR PATTERN, doesnt have strong linear dependency,heteroscadesicity:- residual is not consistent /SSE IS NOT CONSISTENT\n",
    "## Because of heteroscadesicity relationship it is rejecting this \n",
    "plt.scatter(df['MPG.city'],df['Price'])"
   ]
  },
  {
   "cell_type": "code",
   "execution_count": 29,
   "metadata": {},
   "outputs": [],
   "source": [
    "## hence we will rejectinsignificant features and build model kfold again :-"
   ]
  },
  {
   "cell_type": "markdown",
   "metadata": {},
   "source": [
    "# Model 2:- Creating model again with only 6 features after removing insignificant ones"
   ]
  },
  {
   "cell_type": "code",
   "execution_count": 30,
   "metadata": {},
   "outputs": [
    {
     "data": {
      "text/html": [
       "<table class=\"simpletable\">\n",
       "<caption>OLS Regression Results</caption>\n",
       "<tr>\n",
       "  <th>Dep. Variable:</th>          <td>Price</td>      <th>  R-squared:         </th> <td>   0.751</td>\n",
       "</tr>\n",
       "<tr>\n",
       "  <th>Model:</th>                   <td>OLS</td>       <th>  Adj. R-squared:    </th> <td>   0.736</td>\n",
       "</tr>\n",
       "<tr>\n",
       "  <th>Method:</th>             <td>Least Squares</td>  <th>  F-statistic:       </th> <td>   52.39</td>\n",
       "</tr>\n",
       "<tr>\n",
       "  <th>Date:</th>             <td>Tue, 25 Feb 2020</td> <th>  Prob (F-statistic):</th> <td>8.50e-25</td>\n",
       "</tr>\n",
       "<tr>\n",
       "  <th>Time:</th>                 <td>21:29:19</td>     <th>  Log-Likelihood:    </th> <td> -277.79</td>\n",
       "</tr>\n",
       "<tr>\n",
       "  <th>No. Observations:</th>      <td>    93</td>      <th>  AIC:               </th> <td>   567.6</td>\n",
       "</tr>\n",
       "<tr>\n",
       "  <th>Df Residuals:</th>          <td>    87</td>      <th>  BIC:               </th> <td>   582.8</td>\n",
       "</tr>\n",
       "<tr>\n",
       "  <th>Df Model:</th>              <td>     5</td>      <th>                     </th>     <td> </td>   \n",
       "</tr>\n",
       "<tr>\n",
       "  <th>Covariance Type:</th>      <td>nonrobust</td>    <th>                     </th>     <td> </td>   \n",
       "</tr>\n",
       "</table>\n",
       "<table class=\"simpletable\">\n",
       "<tr>\n",
       "       <td></td>         <th>coef</th>     <th>std err</th>      <th>t</th>      <th>P>|t|</th>  <th>[0.025</th>    <th>0.975]</th>  \n",
       "</tr>\n",
       "<tr>\n",
       "  <th>const</th>      <td>   54.3568</td> <td>   13.330</td> <td>    4.078</td> <td> 0.000</td> <td>   27.863</td> <td>   80.851</td>\n",
       "</tr>\n",
       "<tr>\n",
       "  <th>Type</th>       <td>    1.7354</td> <td>    0.385</td> <td>    4.513</td> <td> 0.000</td> <td>    0.971</td> <td>    2.500</td>\n",
       "</tr>\n",
       "<tr>\n",
       "  <th>AirBags</th>    <td>    2.8723</td> <td>    0.850</td> <td>    3.380</td> <td> 0.001</td> <td>    1.183</td> <td>    4.561</td>\n",
       "</tr>\n",
       "<tr>\n",
       "  <th>DriveTrain</th> <td>    2.1569</td> <td>    0.747</td> <td>    2.889</td> <td> 0.005</td> <td>    0.673</td> <td>    3.641</td>\n",
       "</tr>\n",
       "<tr>\n",
       "  <th>Horsepower</th> <td>    0.1183</td> <td>    0.014</td> <td>    8.341</td> <td> 0.000</td> <td>    0.090</td> <td>    0.147</td>\n",
       "</tr>\n",
       "<tr>\n",
       "  <th>Width</th>      <td>   -0.8555</td> <td>    0.209</td> <td>   -4.102</td> <td> 0.000</td> <td>   -1.270</td> <td>   -0.441</td>\n",
       "</tr>\n",
       "</table>\n",
       "<table class=\"simpletable\">\n",
       "<tr>\n",
       "  <th>Omnibus:</th>       <td>32.928</td> <th>  Durbin-Watson:     </th> <td>   1.754</td>\n",
       "</tr>\n",
       "<tr>\n",
       "  <th>Prob(Omnibus):</th> <td> 0.000</td> <th>  Jarque-Bera (JB):  </th> <td>  82.962</td>\n",
       "</tr>\n",
       "<tr>\n",
       "  <th>Skew:</th>          <td> 1.235</td> <th>  Prob(JB):          </th> <td>9.66e-19</td>\n",
       "</tr>\n",
       "<tr>\n",
       "  <th>Kurtosis:</th>      <td> 6.912</td> <th>  Cond. No.          </th> <td>4.33e+03</td>\n",
       "</tr>\n",
       "</table><br/><br/>Warnings:<br/>[1] Standard Errors assume that the covariance matrix of the errors is correctly specified.<br/>[2] The condition number is large, 4.33e+03. This might indicate that there are<br/>strong multicollinearity or other numerical problems."
      ],
      "text/plain": [
       "<class 'statsmodels.iolib.summary.Summary'>\n",
       "\"\"\"\n",
       "                            OLS Regression Results                            \n",
       "==============================================================================\n",
       "Dep. Variable:                  Price   R-squared:                       0.751\n",
       "Model:                            OLS   Adj. R-squared:                  0.736\n",
       "Method:                 Least Squares   F-statistic:                     52.39\n",
       "Date:                Tue, 25 Feb 2020   Prob (F-statistic):           8.50e-25\n",
       "Time:                        21:29:19   Log-Likelihood:                -277.79\n",
       "No. Observations:                  93   AIC:                             567.6\n",
       "Df Residuals:                      87   BIC:                             582.8\n",
       "Df Model:                           5                                         \n",
       "Covariance Type:            nonrobust                                         \n",
       "==============================================================================\n",
       "                 coef    std err          t      P>|t|      [0.025      0.975]\n",
       "------------------------------------------------------------------------------\n",
       "const         54.3568     13.330      4.078      0.000      27.863      80.851\n",
       "Type           1.7354      0.385      4.513      0.000       0.971       2.500\n",
       "AirBags        2.8723      0.850      3.380      0.001       1.183       4.561\n",
       "DriveTrain     2.1569      0.747      2.889      0.005       0.673       3.641\n",
       "Horsepower     0.1183      0.014      8.341      0.000       0.090       0.147\n",
       "Width         -0.8555      0.209     -4.102      0.000      -1.270      -0.441\n",
       "==============================================================================\n",
       "Omnibus:                       32.928   Durbin-Watson:                   1.754\n",
       "Prob(Omnibus):                  0.000   Jarque-Bera (JB):               82.962\n",
       "Skew:                           1.235   Prob(JB):                     9.66e-19\n",
       "Kurtosis:                       6.912   Cond. No.                     4.33e+03\n",
       "==============================================================================\n",
       "\n",
       "Warnings:\n",
       "[1] Standard Errors assume that the covariance matrix of the errors is correctly specified.\n",
       "[2] The condition number is large, 4.33e+03. This might indicate that there are\n",
       "strong multicollinearity or other numerical problems.\n",
       "\"\"\""
      ]
     },
     "execution_count": 30,
     "metadata": {},
     "output_type": "execute_result"
    }
   ],
   "source": [
    "X_new=X[['Type','AirBags','DriveTrain','Horsepower','Width']]\n",
    "\n",
    "import statsmodels.api as sm\n",
    "from statsmodels.api import add_constant\n",
    "X_new_c=sm.add_constant(X_new)\n",
    "model=sm.OLS(y,X_new_c).fit()\n",
    "model.summary()"
   ]
  },
  {
   "cell_type": "markdown",
   "metadata": {},
   "source": [
    "## Now come to SKLEARN and lets c after adding significant feature , does the score improve..?\n"
   ]
  },
  {
   "cell_type": "code",
   "execution_count": 31,
   "metadata": {},
   "outputs": [
    {
     "name": "stdout",
     "output_type": "stream",
     "text": [
      "MVLR: 5.586814 (1.059308)\n",
      "KNearestNeighbours: 6.042591 (5.821123)\n"
     ]
    }
   ],
   "source": [
    "## Now all the features are passing the test\n",
    "\n",
    "for name, model in models:\n",
    "    \n",
    "    kfold=model_selection.KFold(shuffle=True,n_splits=3,random_state=0)\n",
    "    cv_results = model_selection.cross_val_score(model, X_new, y,cv=kfold, scoring='neg_mean_squared_error') \n",
    "    results.append(np.sqrt(abs(cv_results)))\n",
    "    names.append(name)\n",
    "    print(\"%s: %f (%f)\" % (name, np.mean(np.sqrt(np.abs(cv_results))),\n",
    "                           np.var(np.sqrt(np.abs(cv_results)),ddof=1)))###(ddof=1,n-1)\n",
    "    "
   ]
  },
  {
   "cell_type": "markdown",
   "metadata": {},
   "source": [
    "## Conclusion:-\n",
    "### earlier also the score was :\n",
    "#### MVLR: 5.196223 (0.981992)\n",
    "#### KNearestNeighbours: 6.944202 (2.892567), doubt:-but R2 got decreased, which means i have more error in my model., is it..?\n",
    "### model performance doesnt improve, not a great desisgn,:- bais  and variance increase( USING 6 FEATURES)\n",
    "## independent variables with curvilinear relationship:- we will hogher order term for thses 2 feature and include in our model:- quadratic regression model(converting the highly coorelated ones to the quadratic one)"
   ]
  },
  {
   "cell_type": "markdown",
   "metadata": {},
   "source": [
    "# MODEL 3: Quadratic Regression Model -(using polynomial features, using 2nd degree)"
   ]
  },
  {
   "cell_type": "raw",
   "metadata": {},
   "source": [
    "**** NOTE:: Is it possible to check OLS SUMMARY for this model ****                                                           ------NOT POSSIBLE BECAUSE OLS IS LINEAR MODEL,AND THIS IS QUADRATIC MODEL-----  \n",
    "OLS CAN BE SEEN FOR LINEAR MODELS ONLY AS IT IS A LINEAR FUNCTION"
   ]
  },
  {
   "cell_type": "code",
   "execution_count": null,
   "metadata": {},
   "outputs": [],
   "source": []
  },
  {
   "cell_type": "markdown",
   "metadata": {},
   "source": [
    "#### **** HOW WOULD YOU KNOW WHOCH ONES ARE THE CURVILINEAR FEATURES  ..?\n",
    "##### Using pairplot"
   ]
  },
  {
   "cell_type": "code",
   "execution_count": 32,
   "metadata": {},
   "outputs": [
    {
     "data": {
      "text/plain": [
       "(93, 5)"
      ]
     },
     "execution_count": 32,
     "metadata": {},
     "output_type": "execute_result"
    }
   ],
   "source": [
    "X_qr=X[['MPG.city','MPG.highway']]\n",
    "X_std=sc.fit_transform(X_qr)\n",
    "\n",
    "qr=PolynomialFeatures(degree=2)\n",
    "XQR=qr.fit_transform(X_std)\n",
    "XQR_df=pd.DataFrame(XQR)\n",
    "XQR_2=XQR_df.drop([0],axis=1)\n",
    "XQR_2.shape"
   ]
  },
  {
   "cell_type": "markdown",
   "metadata": {},
   "source": [
    "#### Now we will concatenate the XQR_df, and X_new (because XQR_df it has the higher oreder feature and X_new has the all significant features), for that we have to scale the the X_new"
   ]
  },
  {
   "cell_type": "code",
   "execution_count": 33,
   "metadata": {},
   "outputs": [],
   "source": [
    "X_new_std=sc.fit_transform(X_new)\n",
    "type(X_new_std)\n",
    "## as X_new_std. is an array now convert it into dataframe\n",
    "X_new_df=pd.DataFrame(X_new_std)"
   ]
  },
  {
   "cell_type": "code",
   "execution_count": 34,
   "metadata": {},
   "outputs": [
    {
     "data": {
      "text/plain": [
       "array([[ 0.47131249,  0.36092485],\n",
       "       [-0.78103212, -0.77051373],\n",
       "       [-0.42321938, -0.58194063]])"
      ]
     },
     "execution_count": 34,
     "metadata": {},
     "output_type": "execute_result"
    }
   ],
   "source": [
    "X_std[:3,:]"
   ]
  },
  {
   "cell_type": "code",
   "execution_count": null,
   "metadata": {},
   "outputs": [],
   "source": [
    "### we got thsese 6 cols , interpretation of thses cols\n",
    "### 1->MPGCITY, 2->HIGHWAY, 3->SQUARE(MPGCITY), 4->(HIGHWAY), 5->HIGHWAY*MPGCITY"
   ]
  },
  {
   "cell_type": "code",
   "execution_count": 35,
   "metadata": {},
   "outputs": [
    {
     "data": {
      "text/html": [
       "<div>\n",
       "<style scoped>\n",
       "    .dataframe tbody tr th:only-of-type {\n",
       "        vertical-align: middle;\n",
       "    }\n",
       "\n",
       "    .dataframe tbody tr th {\n",
       "        vertical-align: top;\n",
       "    }\n",
       "\n",
       "    .dataframe thead th {\n",
       "        text-align: right;\n",
       "    }\n",
       "</style>\n",
       "<table border=\"1\" class=\"dataframe\">\n",
       "  <thead>\n",
       "    <tr style=\"text-align: right;\">\n",
       "      <th></th>\n",
       "      <th>0</th>\n",
       "      <th>1</th>\n",
       "      <th>2</th>\n",
       "      <th>3</th>\n",
       "      <th>4</th>\n",
       "      <th>1</th>\n",
       "      <th>2</th>\n",
       "      <th>3</th>\n",
       "      <th>4</th>\n",
       "      <th>5</th>\n",
       "    </tr>\n",
       "  </thead>\n",
       "  <tbody>\n",
       "    <tr>\n",
       "      <td>0</td>\n",
       "      <td>-1.275407</td>\n",
       "      <td>-1.140297</td>\n",
       "      <td>-0.587083</td>\n",
       "      <td>-0.073484</td>\n",
       "      <td>-0.366184</td>\n",
       "      <td>0.471312</td>\n",
       "      <td>0.360925</td>\n",
       "      <td>0.222135</td>\n",
       "      <td>0.170108</td>\n",
       "      <td>0.130267</td>\n",
       "    </tr>\n",
       "    <tr>\n",
       "      <td>1</td>\n",
       "      <td>1.360434</td>\n",
       "      <td>1.687640</td>\n",
       "      <td>-0.587083</td>\n",
       "      <td>1.078322</td>\n",
       "      <td>0.431983</td>\n",
       "      <td>-0.781032</td>\n",
       "      <td>-0.770514</td>\n",
       "      <td>0.610011</td>\n",
       "      <td>0.601796</td>\n",
       "      <td>0.593691</td>\n",
       "    </tr>\n",
       "    <tr>\n",
       "      <td>2</td>\n",
       "      <td>-0.748239</td>\n",
       "      <td>0.273671</td>\n",
       "      <td>-0.587083</td>\n",
       "      <td>0.540813</td>\n",
       "      <td>-0.632239</td>\n",
       "      <td>-0.423219</td>\n",
       "      <td>-0.581941</td>\n",
       "      <td>0.179115</td>\n",
       "      <td>0.246289</td>\n",
       "      <td>0.338655</td>\n",
       "    </tr>\n",
       "    <tr>\n",
       "      <td>3</td>\n",
       "      <td>1.360434</td>\n",
       "      <td>1.687640</td>\n",
       "      <td>-0.587083</td>\n",
       "      <td>0.540813</td>\n",
       "      <td>0.165927</td>\n",
       "      <td>-0.602126</td>\n",
       "      <td>-0.581941</td>\n",
       "      <td>0.362555</td>\n",
       "      <td>0.350401</td>\n",
       "      <td>0.338655</td>\n",
       "    </tr>\n",
       "    <tr>\n",
       "      <td>4</td>\n",
       "      <td>1.360434</td>\n",
       "      <td>0.273671</td>\n",
       "      <td>2.012854</td>\n",
       "      <td>1.231897</td>\n",
       "      <td>-0.100128</td>\n",
       "      <td>-0.065407</td>\n",
       "      <td>0.172352</td>\n",
       "      <td>0.004278</td>\n",
       "      <td>-0.011273</td>\n",
       "      <td>0.029705</td>\n",
       "    </tr>\n",
       "  </tbody>\n",
       "</table>\n",
       "</div>"
      ],
      "text/plain": [
       "          0         1         2         3         4         1         2  \\\n",
       "0 -1.275407 -1.140297 -0.587083 -0.073484 -0.366184  0.471312  0.360925   \n",
       "1  1.360434  1.687640 -0.587083  1.078322  0.431983 -0.781032 -0.770514   \n",
       "2 -0.748239  0.273671 -0.587083  0.540813 -0.632239 -0.423219 -0.581941   \n",
       "3  1.360434  1.687640 -0.587083  0.540813  0.165927 -0.602126 -0.581941   \n",
       "4  1.360434  0.273671  2.012854  1.231897 -0.100128 -0.065407  0.172352   \n",
       "\n",
       "          3         4         5  \n",
       "0  0.222135  0.170108  0.130267  \n",
       "1  0.610011  0.601796  0.593691  \n",
       "2  0.179115  0.246289  0.338655  \n",
       "3  0.362555  0.350401  0.338655  \n",
       "4  0.004278 -0.011273  0.029705  "
      ]
     },
     "execution_count": 35,
     "metadata": {},
     "output_type": "execute_result"
    }
   ],
   "source": [
    "X_final=pd.concat([X_new_df,XQR_2],axis=1)\n",
    "X_final.head()"
   ]
  },
  {
   "cell_type": "markdown",
   "metadata": {},
   "source": [
    "## Now pass the X_final in the validation loop"
   ]
  },
  {
   "cell_type": "code",
   "execution_count": 50,
   "metadata": {},
   "outputs": [
    {
     "name": "stdout",
     "output_type": "stream",
     "text": [
      "MVLR: 5.373569 (1.542034)\n",
      "KNearestNeighbours: 6.268537 (4.263259)\n"
     ]
    }
   ],
   "source": [
    "## Now all the features are passing the test\n",
    "\n",
    "for name, model in models:\n",
    "    \n",
    "    kfold=model_selection.KFold(shuffle=True,n_splits=3,random_state=0)\n",
    "    cv_results = model_selection.cross_val_score(model, X_final, y,cv=kfold, scoring='neg_mean_squared_error') \n",
    "    results.append(np.sqrt(abs(cv_results)))\n",
    "    names.append(name)\n",
    "    print(\"%s: %f (%f)\" % (name, np.mean(np.sqrt(np.abs(cv_results))),\n",
    "                           np.var(np.sqrt(np.abs(cv_results)),ddof=1)))###(ddof=1,n-1)\n",
    "    "
   ]
  },
  {
   "cell_type": "raw",
   "metadata": {},
   "source": [
    "## Model 1 ( USING all 21 FEATURES)\n",
    "\n",
    "MVLR: 5.196223 (0.981992)-->less var error\n",
    "KNearestNeighbours: 6.944202 (2.892567) -->High var error\n",
    "\n",
    "## Model 2 ( USING 6 FEATURES)\n",
    "\n",
    "MVLR: 5.586814 (1.059308)\n",
    "KNearestNeighbours: 6.042591 (5.821123)\n",
    "\n",
    "## Model 3\n",
    "\n",
    "MVLR: 5.373569 (1.542034)--> as model complexity(using polynomial feature with degree 2) increases Bais error decreases, but variance error increases\n",
    "KNearestNeighbours: 6.268537 (4.263259)\n",
    "\n",
    "### As we saw that the bais error decreases, now lets increase the 3 rd order if by increasing the 3rd order bais error will increase, then we will remove it, but first lets c with the 3 rd order "
   ]
  },
  {
   "cell_type": "markdown",
   "metadata": {},
   "source": [
    "# MODEL 4: Quadratic Regression Model -(using polynomial features, using 3nd degree)"
   ]
  },
  {
   "cell_type": "code",
   "execution_count": 55,
   "metadata": {},
   "outputs": [
    {
     "name": "stdout",
     "output_type": "stream",
     "text": [
      "MVLR: 5.948997 (0.413776)\n",
      "KNearestNeighbours: 6.360171 (3.294896)\n"
     ]
    }
   ],
   "source": [
    "from sklearn.preprocessing import PolynomialFeatures,StandardScaler\n",
    "sc=StandardScaler()\n",
    "\n",
    "qr=PolynomialFeatures(degree=3)\n",
    "XQR=qr.fit_transform(X_std)\n",
    "XQR_df=pd.DataFrame(XQR)\n",
    "XQR_3=XQR_df.drop([0],axis=1)\n",
    "XQR_3.shape\n",
    "X_final=pd.concat([X_new_df,XQR_3],axis=1)\n",
    "\n",
    "\n",
    "## \n",
    "\n",
    "for name, model in models:\n",
    "    \n",
    "    kfold=model_selection.KFold(shuffle=True,n_splits=3,random_state=0)\n",
    "    cv_results = model_selection.cross_val_score(model, X_final, y,cv=kfold, scoring='neg_mean_squared_error') \n",
    "    results.append(np.sqrt(abs(cv_results)))\n",
    "    names.append(name)\n",
    "    print(\"%s: %f (%f)\" % (name, np.mean(np.sqrt(np.abs(cv_results))),\n",
    "                           np.var(np.sqrt(np.abs(cv_results)),ddof=1)))###(ddof=1,n-1)\n",
    "    "
   ]
  },
  {
   "cell_type": "code",
   "execution_count": null,
   "metadata": {},
   "outputs": [],
   "source": [
    "## Model 1 ( USING all 21 FEATURES)\n",
    "\n",
    "MVLR: 5.196223 (0.981992)-->less var error\n",
    "KNearestNeighbours: 6.944202 (2.892567) -->High var error\n",
    "\n",
    "## Model 2 ( USING 6 FEATURES)\n",
    "\n",
    "MVLR: 5.586814 (1.059308)\n",
    "KNearestNeighbours: 6.042591 (5.821123)\n",
    "\n",
    "## Model 3\n",
    "\n",
    "QYADRATIC: 5.373569 (1.542034)--> as model complexity(using polynomial feature with degree 2) increases Bais error decreases, but variance error increases\n",
    "KNearestNeighbours: 6.268537 (4.263259)\n",
    "\n",
    "### As we saw that the bais error decreases, now lets increase the 3 rd order if by increasing the 3rd order bais error will increase, then we will remove it, but first lets c with the 3 rd order\n",
    "\n",
    "## Model 4\n",
    "\n",
    "QYADRATIC: 5.948997 (0.413776)\n",
    "KNearestNeighbours: 6.360171 (3.294896)-->\n",
    "    \n",
    "    \n",
    "### generally in theory with , model complexity our variance error increases but here we see that bais error increases,     \n",
    "percentage difference:- BAIS ->(5.948997-5.373569)9.6 %\n",
    "                        Variance--> 73.16 %\n",
    "BECAUSE , POLYNOMIAL FEATURE(3 RD DEGREE) WHAT WE HAVE FITTED HERE IS NOT OVERFIT , IT IS RIGHTLY FIT\n",
    "FOR LINEAR IT IS OVERFIT, BUT 3 RD FOR THE FOR CURVILINEAR \n",
    "    \n",
    "THAT IS WHY VARIANCE ERROR DECREASED  DRASTICALLY, WITH TRADE OFF 9.6 % WITH 73% BENEFIT "
   ]
  },
  {
   "cell_type": "markdown",
   "metadata": {},
   "source": [
    "### Hence so far Polynomial Regression is best with Degress 3, 3rd power"
   ]
  },
  {
   "cell_type": "markdown",
   "metadata": {},
   "source": [
    "# Lets use other Regressor Models (KNN,DECISION TREE, RANDOM FOREST)\n"
   ]
  },
  {
   "cell_type": "code",
   "execution_count": 40,
   "metadata": {},
   "outputs": [],
   "source": [
    "from sklearn.neighbors import KNeighborsRegressor\n",
    "from sklearn.tree import DecisionTreeRegressor\n",
    "from sklearn.ensemble import RandomForestRegressor,AdaBoostRegressor,GradientBoostingRegressor\n",
    "from sklearn.ensemble import VotingRegressor\n",
    "from sklearn.model_selection import GridSearchCV\n"
   ]
  },
  {
   "cell_type": "markdown",
   "metadata": {},
   "source": [
    "# MODEL 1 : KNeighborsRegressor"
   ]
  },
  {
   "cell_type": "code",
   "execution_count": 36,
   "metadata": {},
   "outputs": [],
   "source": [
    "knn=KNeighborsRegressor()\n",
    "knn_params={'n_neighbors':np.arange(3,20), 'weights':['uniform','distance'] }\n",
    "GS=GridSearchCV(knn,knn_params,cv=3,scoring='neg_mean_squared_error')"
   ]
  },
  {
   "cell_type": "raw",
   "metadata": {},
   "source": [
    "## we can't trust grid search:- because it gives us the score on best average i.e (bais error), not wrt to variance error\n",
    "## nneighbors should be 10 % of total obs\n",
    "## how many n neighbours total 17 number of neihbours each with uniform and distance :- hence total 34 diffrent combinations"
   ]
  },
  {
   "cell_type": "code",
   "execution_count": 37,
   "metadata": {},
   "outputs": [
    {
     "data": {
      "text/plain": [
       "GridSearchCV(cv=3, error_score=nan,\n",
       "             estimator=KNeighborsRegressor(algorithm='auto', leaf_size=30,\n",
       "                                           metric='minkowski',\n",
       "                                           metric_params=None, n_jobs=None,\n",
       "                                           n_neighbors=5, p=2,\n",
       "                                           weights='uniform'),\n",
       "             iid='deprecated', n_jobs=None,\n",
       "             param_grid={'n_neighbors': array([ 3,  4,  5,  6,  7,  8,  9, 10, 11, 12, 13, 14, 15, 16, 17, 18, 19]),\n",
       "                         'weights': ['uniform', 'distance']},\n",
       "             pre_dispatch='2*n_jobs', refit=True, return_train_score=False,\n",
       "             scoring='neg_mean_squared_error', verbose=0)"
      ]
     },
     "execution_count": 37,
     "metadata": {},
     "output_type": "execute_result"
    }
   ],
   "source": [
    "X_scaled=sc.fit_transform(X)\n",
    "\n",
    "X_scaled.shape\n",
    "GS.fit(X_scaled,y)"
   ]
  },
  {
   "cell_type": "code",
   "execution_count": 38,
   "metadata": {},
   "outputs": [
    {
     "data": {
      "text/plain": [
       "{'n_neighbors': 3, 'weights': 'distance'}"
      ]
     },
     "execution_count": 38,
     "metadata": {},
     "output_type": "execute_result"
    }
   ],
   "source": [
    "GS.best_params_"
   ]
  },
  {
   "cell_type": "markdown",
   "metadata": {},
   "source": [
    "# MODEL 2 : DecisionTreeRegressor"
   ]
  },
  {
   "cell_type": "code",
   "execution_count": 41,
   "metadata": {},
   "outputs": [],
   "source": [
    "DT=DecisionTreeRegressor(random_state=0)\n",
    "DT_params={'max_depth':np.arange(1,50),'min_samples_leaf':np.arange(2,15)}\n",
    "\n",
    "GS_DT=GridSearchCV(DT,DT_params,cv=3,scoring='neg_mean_squared_error')\n"
   ]
  },
  {
   "cell_type": "code",
   "execution_count": 42,
   "metadata": {},
   "outputs": [
    {
     "data": {
      "text/plain": [
       "{'max_depth': 4, 'min_samples_leaf': 7}"
      ]
     },
     "execution_count": 42,
     "metadata": {},
     "output_type": "execute_result"
    }
   ],
   "source": [
    "GS_DT.fit(X_scaled,y)\n",
    "GS_DT.best_params_"
   ]
  },
  {
   "cell_type": "markdown",
   "metadata": {},
   "source": [
    "# MODEL 3 : RandomForestRegressor"
   ]
  },
  {
   "cell_type": "code",
   "execution_count": null,
   "metadata": {},
   "outputs": [],
   "source": [
    "### note for RandomForestRegressor,boosting , bagging for n_estimator  \n",
    "grid search will not used because , grid search will give the average and bais error\n",
    "n_estimator: depends on variance error not on bais error\n",
    "n_estimator:-bagging , boosting and gradient"
   ]
  },
  {
   "cell_type": "code",
   "execution_count": 43,
   "metadata": {},
   "outputs": [],
   "source": [
    "rmse_mean = []\n",
    "rmse_var = []\n",
    "for ne in np.arange(1,50):c\n",
    "    kfold = model_selection.KFold(shuffle=True,n_splits=3,random_state=0)\n",
    "    mse = model_selection.cross_val_score(RF, X_scaled, y,cv=kfold, scoring='neg_mean_squared_error')\n",
    "    rmse_mean.append(np.mean(np.sqrt(np.abs(mse))))\n",
    "    rmse_var.append(np.var(np.sqrt(np.abs(mse))))\n"
   ]
  },
  {
   "cell_type": "code",
   "execution_count": 44,
   "metadata": {},
   "outputs": [
    {
     "name": "stdout",
     "output_type": "stream",
     "text": [
      "0\n",
      "0.5564596767442489\n",
      "6.972201681974728\n"
     ]
    }
   ],
   "source": [
    "\n",
    "print(np.argmin(rmse_var))\n",
    "print(min(rmse_var))\n",
    "print(rmse_mean[1])"
   ]
  },
  {
   "cell_type": "code",
   "execution_count": 45,
   "metadata": {},
   "outputs": [
    {
     "name": "stdout",
     "output_type": "stream",
     "text": [
      "31\n",
      "5.860718646346167\n",
      "2.2898176164231057\n"
     ]
    }
   ],
   "source": [
    "\n",
    "print(np.argmin(rmse_mean))\n",
    "print(min(rmse_mean))\n",
    "print(rmse_var[31])"
   ]
  },
  {
   "cell_type": "markdown",
   "metadata": {},
   "source": [
    "### it indicates :- one estimatore RF is best perfor,ance\n",
    "your random tree performance is equal to regularised performance\n",
    "creating RF WITH ONE ESTIMATOR IS EQUIVALENT TO ONE DECISION TREE \n",
    "NO POINT in CREATING RF \n",
    "\n",
    "\n",
    "\n",
    "## PURPOSE OF n_estimator:-\n",
    "\n",
    "## 2 goals:- \n",
    "more reliable ,less variance error, but only to certain point, too much will confuse, for what value o n+estimator we will get global minima\n",
    "## Hence best estimator for RF is:\n",
    "## we took n_estimator is 1 is why ...?\n",
    "## where as 31 showed \n",
    "### n_estimators=1 suffers high bais but give good variance error, whereas,\n",
    "\n",
    "### n_estimators=31 suffers high variance but give good bais  error, whereas,\n",
    "### purpose of boosting:- single RF exhibits high bais error, when we do boostng for n_estimator =1 , \n",
    "### hence we should do base etimator 1 in adaboostar (which minimizes the bais error) , and lets c how much it reduces the bais error from 6.9(where variance is low as 0.55, but high bais error), not wise to choose the nestimator=31"
   ]
  },
  {
   "cell_type": "markdown",
   "metadata": {},
   "source": [
    "# boxplot algorithm comparison"
   ]
  },
  {
   "cell_type": "code",
   "execution_count": 47,
   "metadata": {},
   "outputs": [
    {
     "data": {
      "image/png": "[encoded data removed]",
      "text/plain": [
       "<Figure size 432x288 with 1 Axes>"
      ]
     },
     "metadata": {
      "needs_background": "light"
     },
     "output_type": "display_data"
    }
   ],
   "source": [
    "\n",
    "fig = plt.figure()\n",
    "fig.suptitle('Algorithm Comparison')\n",
    "ax = fig.add_subplot(111)\n",
    "plt.boxplot(results)\n",
    "ax.set_xticklabels(names)\n",
    "plt.show()"
   ]
  },
  {
   "cell_type": "raw",
   "metadata": {},
   "source": [
    "RF=RandomForestRegressor(n_estimators=100,random_state=0)\n",
    "KNN=KNeighborsRegressor(n_neighbors=3,weights='distance')\n",
    "DT=DecisionTreeRegressor(max_depth=4,min_samples_leaf=8,random_state=0)\n",
    "\n",
    "\n"
   ]
  },
  {
   "cell_type": "code",
   "execution_count": 48,
   "metadata": {},
   "outputs": [
    {
     "name": "stdout",
     "output_type": "stream",
     "text": [
      "KNearestNeighbours: 6.352923 (5.173775)\n",
      "DecisionTreeRegressor: 6.658348 (6.396210)\n",
      "RandomForestRegressor: 5.959704 (3.246679)\n"
     ]
    }
   ],
   "source": [
    "\n",
    "models=[]\n",
    "results=[]\n",
    "names=[]\n",
    "models.append(('KNearestNeighbours',KNN))\n",
    "models.append(('DecisionTreeRegressor',DT))\n",
    "models.append(('RandomForestRegressor',RF))\n",
    "\n",
    "\n",
    "for name, model in models:\n",
    "    \n",
    "    kfold=model_selection.KFold(shuffle=True,n_splits=3,random_state=0)\n",
    "    cv_results = model_selection.cross_val_score(model, X_scaled, y,cv=kfold, scoring='neg_mean_squared_error') \n",
    "    results.append(np.sqrt(abs(cv_results)))\n",
    "    names.append(name)\n",
    "    print(\"%s: %f (%f)\" % (name, np.mean(np.sqrt(np.abs(cv_results))),\n",
    "                           np.var(np.sqrt(np.abs(cv_results)),ddof=1)))###(ddof=1,n-1)\n",
    "    \n",
    "    \n",
    "    \n",
    "KNearestNeighbours: 6.082606 (3.399802)\n",
    "DecisionTreeRegressor: 6.306883 (2.476063)\n",
    "RandomForestRegressor: 5.748318 (3.213660)\n",
    "    "
   ]
  },
  {
   "cell_type": "markdown",
   "metadata": {},
   "source": [
    "##  MODEL 4 : AdaBoostRegressor RF n_estimators=1 "
   ]
  },
  {
   "cell_type": "code",
   "execution_count": 50,
   "metadata": {},
   "outputs": [],
   "source": [
    "RF=RandomForestRegressor(criterion='mae',n_estimators=1,random_state=0)\n",
    "rmse_mean = []\n",
    "rmse_var = []\n",
    "for ne in np.arange(1,100):\n",
    "    AB_RF=AdaBoostRegressor(base_estimator=RF,n_estimators=ne,random_state=0)\n",
    "    kfold = model_selection.KFold(shuffle=True,n_splits=3,random_state=0)\n",
    "    mse = model_selection.cross_val_score(AB_RF, X_scaled, y,cv=kfold, scoring='neg_mean_squared_error')\n",
    "    rmse_mean.append(np.mean(np.sqrt(np.abs(mse))))\n",
    "    rmse_var.append(np.var(np.sqrt(np.abs(mse))))\n"
   ]
  },
  {
   "cell_type": "code",
   "execution_count": 51,
   "metadata": {
    "scrolled": false
   },
   "outputs": [
    {
     "name": "stdout",
     "output_type": "stream",
     "text": [
      "0\n",
      "1.2868918703778183\n"
     ]
    }
   ],
   "source": [
    "print(np.argmin(rmse_var))\n",
    "print(min(rmse_var))\n"
   ]
  },
  {
   "cell_type": "code",
   "execution_count": 53,
   "metadata": {},
   "outputs": [
    {
     "name": "stdout",
     "output_type": "stream",
     "text": [
      "8\n",
      "5.512971225315951\n"
     ]
    }
   ],
   "source": [
    "\n",
    "print(np.argmin(rmse_mean))\n",
    "print(min(rmse_mean))\n",
    "\n",
    "8\n",
    "5.512971225315951"
   ]
  },
  {
   "cell_type": "code",
   "execution_count": null,
   "metadata": {},
   "outputs": [],
   "source": [
    "## HENCE WE SAW THAT THE BAISED ERROR WAS DROPPED FROM 6... TO 5.51 HENCE WE WILL FEEZE THE adaboostRF FOR N_ESTIMATOR=9"
   ]
  },
  {
   "cell_type": "markdown",
   "metadata": {},
   "source": [
    "## # MODEL 5 : AdaBoostRegressor (AdaBoost uses Decision Tree Classifier as default Classifier. base_estimator)"
   ]
  },
  {
   "cell_type": "code",
   "execution_count": 62,
   "metadata": {},
   "outputs": [],
   "source": [
    "AB_dt=AdaBoostRegressor(n_estimators=100,random_state=0)\n",
    "rmse_mean = []\n",
    "rmse_var = []\n",
    "\n",
    "for ne in np.arange(1,50):\n",
    "    AB_dt=AdaBoostRegressor(n_estimators=ne,random_state=0)\n",
    "    kfold = model_selection.KFold(shuffle=True,n_splits=3,random_state=0)\n",
    "    mse = model_selection.cross_val_score(AB_dt, X_scaled, y,cv=kfold, scoring='neg_mean_squared_error')\n",
    "    rmse_mean.append(np.mean(np.sqrt(np.abs(mse))))\n",
    "    rmse_var.append(np.var(np.sqrt(np.abs(mse))))\n"
   ]
  },
  {
   "cell_type": "code",
   "execution_count": 63,
   "metadata": {},
   "outputs": [
    {
     "name": "stdout",
     "output_type": "stream",
     "text": [
      "43\n",
      "1.4899097813884883\n",
      "19\n",
      "5.491770040203729\n"
     ]
    }
   ],
   "source": [
    "\n",
    "\n",
    "print(np.argmin(rmse_var))\n",
    "print(min(rmse_var))\n",
    "\n",
    "\n",
    "\n",
    "print(np.argmin(rmse_mean))\n",
    "print(min(rmse_mean))\n",
    "\n",
    "## as we got 19 scores for rmse , now we have to see which one is the least . so graphically we cannt make a conlusion ,\n",
    "## so we willincraese the value at arange and Xaxis to 50, to see if the global minima value changes"
   ]
  },
  {
   "cell_type": "code",
   "execution_count": 66,
   "metadata": {},
   "outputs": [
    {
     "name": "stdout",
     "output_type": "stream",
     "text": [
      "6.231868029420608\n",
      "1.8882475650148054\n"
     ]
    }
   ],
   "source": [
    "print(rmse_mean[43])\n",
    "print(rmse_var[19])"
   ]
  },
  {
   "cell_type": "markdown",
   "metadata": {},
   "source": [
    "## To check the GLOBAL MINIMA POINT"
   ]
  },
  {
   "cell_type": "code",
   "execution_count": 57,
   "metadata": {},
   "outputs": [
    {
     "data": {
      "text/plain": [
       "[<matplotlib.lines.Line2D at 0x1312fb2b448>]"
      ]
     },
     "execution_count": 57,
     "metadata": {},
     "output_type": "execute_result"
    },
    {
     "data": {
      "image/png": "[encoded data removed]",
      "text/plain": [
       "<Figure size 432x288 with 1 Axes>"
      ]
     },
     "metadata": {
      "needs_background": "light"
     },
     "output_type": "display_data"
    }
   ],
   "source": [
    "x_axis=np.arange(1,50)\n",
    "plt.plot(x_axis,rmse)"
   ]
  },
  {
   "cell_type": "markdown",
   "metadata": {},
   "source": [
    "####  so for AdaBoostRegressor we have best estimator as 20 and graphically"
   ]
  },
  {
   "cell_type": "markdown",
   "metadata": {},
   "source": [
    "##  MODEL 7 : GradientBoost ()"
   ]
  },
  {
   "cell_type": "code",
   "execution_count": 64,
   "metadata": {},
   "outputs": [
    {
     "name": "stdout",
     "output_type": "stream",
     "text": [
      "48\n",
      "1.535037877129822\n",
      "21\n",
      "6.20977277846593\n"
     ]
    }
   ],
   "source": [
    "rmse_mean = []\n",
    "rmse_var = []\n",
    "\n",
    "\n",
    "for ne in np.arange(1,50):\n",
    "    \n",
    "    \n",
    "    AB_RF_GB=GradientBoostingRegressor(n_estimators=ne,random_state=0)\n",
    "    kfold = model_selection.KFold(shuffle=True,n_splits=3,random_state=0)\n",
    "    mse = model_selection.cross_val_score(AB_RF_GB, X_scaled, y,cv=kfold, scoring='neg_mean_squared_error')\n",
    "    #RMSE.append(np.var(np.sqrt(np.abs(mse)),ddof=1))\n",
    "    rmse_mean.append(np.mean(np.sqrt(np.abs(mse))))\n",
    "    rmse_var.append(np.var(np.sqrt(np.abs(mse))))\n",
    "\n",
    "\n",
    "print(np.argmin(rmse_var))\n",
    "print(min(rmse_var))\n",
    "\n",
    "\n",
    "\n",
    "print(np.argmin(rmse_mean))\n",
    "print(min(rmse_mean))"
   ]
  },
  {
   "cell_type": "code",
   "execution_count": 65,
   "metadata": {},
   "outputs": [
    {
     "name": "stdout",
     "output_type": "stream",
     "text": [
      "6.249071463866014\n",
      "1.9345357849816371\n"
     ]
    }
   ],
   "source": [
    "print(rmse_mean[48])\n",
    "print(rmse_var[21])"
   ]
  },
  {
   "cell_type": "code",
   "execution_count": 69,
   "metadata": {},
   "outputs": [
    {
     "data": {
      "text/plain": [
       "(93, 20)"
      ]
     },
     "execution_count": 69,
     "metadata": {},
     "output_type": "execute_result"
    }
   ],
   "source": [
    "X_scaled.shape"
   ]
  },
  {
   "cell_type": "code",
   "execution_count": null,
   "metadata": {},
   "outputs": [],
   "source": [
    "KNN = KNeighborsRegressor(n_neighbors=3,weights='distance')\n",
    "DT = DecisionTreeRegressor(max_depth= 5 ,min_samples_leaf=7 ,random_state=0,criterion='mae')\n",
    "RF=RandomForestRegressor(criterion='mae',n_estimators=1,random_state=0)\n",
    "AB_RF=AdaBoostRegressor(base_estimator=RF,n_estimators=9,random_state=0)\n",
    "AB_dt=AdaBoostRegressor(n_estimators=20,random_state=0)\n",
    "AB_RF_GB=AdaBoostRegressor(n_estimators=22,random_state=0)"
   ]
  }
 ],
 "metadata": {
  "kernelspec": {
   "display_name": "Python 3",
   "language": "python",
   "name": "python3"
  },
  "language_info": {
   "codemirror_mode": {
    "name": "ipython",
    "version": 3
   },
   "file_extension": ".py",
   "mimetype": "text/x-python",
   "name": "python",
   "nbconvert_exporter": "python",
   "pygments_lexer": "ipython3",
   "version": "3.7.3"
  }
 },
 "nbformat": 4,
 "nbformat_minor": 2
}
